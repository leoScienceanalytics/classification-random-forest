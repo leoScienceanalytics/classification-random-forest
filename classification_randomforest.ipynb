{
 "cells": [
  {
   "cell_type": "code",
   "execution_count": 282,
   "metadata": {},
   "outputs": [],
   "source": [
    "import pandas as pd\n",
    "import matplotlib.pyplot as plt\n",
    "import seaborn as sns\n",
    "import plotly.express as px\n",
    "from sklearn.preprocessing import OneHotEncoder\n",
    "from sklearn.model_selection import train_test_split\n",
    "from sklearn.ensemble import RandomForestClassifier\n",
    "from sklearn.metrics import confusion_matrix, ConfusionMatrixDisplay, classification_report\n",
    "from imblearn.over_sampling import SMOTE\n",
    "from imblearn.pipeline import Pipeline as imbpipeline"
   ]
  },
  {
   "cell_type": "code",
   "execution_count": 283,
   "metadata": {},
   "outputs": [
    {
     "data": {
      "text/html": [
       "<div>\n",
       "<style scoped>\n",
       "    .dataframe tbody tr th:only-of-type {\n",
       "        vertical-align: middle;\n",
       "    }\n",
       "\n",
       "    .dataframe tbody tr th {\n",
       "        vertical-align: top;\n",
       "    }\n",
       "\n",
       "    .dataframe thead th {\n",
       "        text-align: right;\n",
       "    }\n",
       "</style>\n",
       "<table border=\"1\" class=\"dataframe\">\n",
       "  <thead>\n",
       "    <tr style=\"text-align: right;\">\n",
       "      <th></th>\n",
       "      <th>Estado civil</th>\n",
       "      <th>Migração</th>\n",
       "      <th>Sexo</th>\n",
       "      <th>Idade na matrícula</th>\n",
       "      <th>Estrangeiro</th>\n",
       "      <th>Necessidades educacionais especiais</th>\n",
       "      <th>Devedor</th>\n",
       "      <th>Taxas de matrícula em dia</th>\n",
       "      <th>Bolsista</th>\n",
       "      <th>Taxa de desemprego</th>\n",
       "      <th>...</th>\n",
       "      <th>disciplinas 1º semestre (aprovadas)</th>\n",
       "      <th>disciplinas 1º semestre (notas)</th>\n",
       "      <th>disciplinas 1º semestre (sem avaliações)</th>\n",
       "      <th>disciplinas 2º semestre (creditadas)</th>\n",
       "      <th>disciplinas 2º semestre (matriculadas)</th>\n",
       "      <th>disciplinas 2º semestre (avaliações)</th>\n",
       "      <th>disciplinas 2º semestre (aprovadas)</th>\n",
       "      <th>disciplinas 2º semestre (notas)</th>\n",
       "      <th>disciplinas 2º semestre (sem avaliações)</th>\n",
       "      <th>Target</th>\n",
       "    </tr>\n",
       "  </thead>\n",
       "  <tbody>\n",
       "    <tr>\n",
       "      <th>0</th>\n",
       "      <td>Solteiro</td>\n",
       "      <td>Sim</td>\n",
       "      <td>Masculino</td>\n",
       "      <td>20</td>\n",
       "      <td>Não</td>\n",
       "      <td>Não</td>\n",
       "      <td>Não</td>\n",
       "      <td>Sim</td>\n",
       "      <td>Não</td>\n",
       "      <td>10.8</td>\n",
       "      <td>...</td>\n",
       "      <td>0</td>\n",
       "      <td>0.000000</td>\n",
       "      <td>0</td>\n",
       "      <td>0</td>\n",
       "      <td>0</td>\n",
       "      <td>0</td>\n",
       "      <td>0</td>\n",
       "      <td>0.000000</td>\n",
       "      <td>0</td>\n",
       "      <td>Desistente</td>\n",
       "    </tr>\n",
       "    <tr>\n",
       "      <th>1</th>\n",
       "      <td>Solteiro</td>\n",
       "      <td>Sim</td>\n",
       "      <td>Masculino</td>\n",
       "      <td>19</td>\n",
       "      <td>Não</td>\n",
       "      <td>Não</td>\n",
       "      <td>Não</td>\n",
       "      <td>Não</td>\n",
       "      <td>Não</td>\n",
       "      <td>13.9</td>\n",
       "      <td>...</td>\n",
       "      <td>6</td>\n",
       "      <td>14.000000</td>\n",
       "      <td>0</td>\n",
       "      <td>0</td>\n",
       "      <td>6</td>\n",
       "      <td>6</td>\n",
       "      <td>6</td>\n",
       "      <td>13.666667</td>\n",
       "      <td>0</td>\n",
       "      <td>Graduado</td>\n",
       "    </tr>\n",
       "    <tr>\n",
       "      <th>2</th>\n",
       "      <td>Solteiro</td>\n",
       "      <td>Sim</td>\n",
       "      <td>Masculino</td>\n",
       "      <td>19</td>\n",
       "      <td>Não</td>\n",
       "      <td>Não</td>\n",
       "      <td>Não</td>\n",
       "      <td>Não</td>\n",
       "      <td>Não</td>\n",
       "      <td>10.8</td>\n",
       "      <td>...</td>\n",
       "      <td>0</td>\n",
       "      <td>0.000000</td>\n",
       "      <td>0</td>\n",
       "      <td>0</td>\n",
       "      <td>6</td>\n",
       "      <td>0</td>\n",
       "      <td>0</td>\n",
       "      <td>0.000000</td>\n",
       "      <td>0</td>\n",
       "      <td>Desistente</td>\n",
       "    </tr>\n",
       "    <tr>\n",
       "      <th>3</th>\n",
       "      <td>Solteiro</td>\n",
       "      <td>Sim</td>\n",
       "      <td>Feminino</td>\n",
       "      <td>20</td>\n",
       "      <td>Não</td>\n",
       "      <td>Não</td>\n",
       "      <td>Não</td>\n",
       "      <td>Sim</td>\n",
       "      <td>Não</td>\n",
       "      <td>9.4</td>\n",
       "      <td>...</td>\n",
       "      <td>6</td>\n",
       "      <td>13.428571</td>\n",
       "      <td>0</td>\n",
       "      <td>0</td>\n",
       "      <td>6</td>\n",
       "      <td>10</td>\n",
       "      <td>5</td>\n",
       "      <td>12.400000</td>\n",
       "      <td>0</td>\n",
       "      <td>Graduado</td>\n",
       "    </tr>\n",
       "    <tr>\n",
       "      <th>4</th>\n",
       "      <td>Casado</td>\n",
       "      <td>Não</td>\n",
       "      <td>Feminino</td>\n",
       "      <td>45</td>\n",
       "      <td>Não</td>\n",
       "      <td>Não</td>\n",
       "      <td>Não</td>\n",
       "      <td>Sim</td>\n",
       "      <td>Não</td>\n",
       "      <td>13.9</td>\n",
       "      <td>...</td>\n",
       "      <td>5</td>\n",
       "      <td>12.333333</td>\n",
       "      <td>0</td>\n",
       "      <td>0</td>\n",
       "      <td>6</td>\n",
       "      <td>6</td>\n",
       "      <td>6</td>\n",
       "      <td>13.000000</td>\n",
       "      <td>0</td>\n",
       "      <td>Graduado</td>\n",
       "    </tr>\n",
       "  </tbody>\n",
       "</table>\n",
       "<p>5 rows × 28 columns</p>\n",
       "</div>"
      ],
      "text/plain": [
       "  Estado civil Migração       Sexo  Idade na matrícula Estrangeiro  \\\n",
       "0     Solteiro      Sim  Masculino                  20         Não   \n",
       "1     Solteiro      Sim  Masculino                  19         Não   \n",
       "2     Solteiro      Sim  Masculino                  19         Não   \n",
       "3     Solteiro      Sim   Feminino                  20         Não   \n",
       "4       Casado      Não   Feminino                  45         Não   \n",
       "\n",
       "  Necessidades educacionais especiais Devedor Taxas de matrícula em dia  \\\n",
       "0                                 Não     Não                       Sim   \n",
       "1                                 Não     Não                       Não   \n",
       "2                                 Não     Não                       Não   \n",
       "3                                 Não     Não                       Sim   \n",
       "4                                 Não     Não                       Sim   \n",
       "\n",
       "  Bolsista  Taxa de desemprego  ...  disciplinas 1º semestre (aprovadas)  \\\n",
       "0      Não                10.8  ...                                    0   \n",
       "1      Não                13.9  ...                                    6   \n",
       "2      Não                10.8  ...                                    0   \n",
       "3      Não                 9.4  ...                                    6   \n",
       "4      Não                13.9  ...                                    5   \n",
       "\n",
       "   disciplinas 1º semestre (notas) disciplinas 1º semestre (sem avaliações)  \\\n",
       "0                         0.000000                                        0   \n",
       "1                        14.000000                                        0   \n",
       "2                         0.000000                                        0   \n",
       "3                        13.428571                                        0   \n",
       "4                        12.333333                                        0   \n",
       "\n",
       "  disciplinas 2º semestre (creditadas) disciplinas 2º semestre (matriculadas)  \\\n",
       "0                                    0                                      0   \n",
       "1                                    0                                      6   \n",
       "2                                    0                                      6   \n",
       "3                                    0                                      6   \n",
       "4                                    0                                      6   \n",
       "\n",
       "   disciplinas 2º semestre (avaliações)  disciplinas 2º semestre (aprovadas)  \\\n",
       "0                                     0                                    0   \n",
       "1                                     6                                    6   \n",
       "2                                     0                                    0   \n",
       "3                                    10                                    5   \n",
       "4                                     6                                    6   \n",
       "\n",
       "   disciplinas 2º semestre (notas)  disciplinas 2º semestre (sem avaliações)  \\\n",
       "0                         0.000000                                         0   \n",
       "1                        13.666667                                         0   \n",
       "2                         0.000000                                         0   \n",
       "3                        12.400000                                         0   \n",
       "4                        13.000000                                         0   \n",
       "\n",
       "       Target  \n",
       "0  Desistente  \n",
       "1    Graduado  \n",
       "2  Desistente  \n",
       "3    Graduado  \n",
       "4    Graduado  \n",
       "\n",
       "[5 rows x 28 columns]"
      ]
     },
     "execution_count": 283,
     "metadata": {},
     "output_type": "execute_result"
    }
   ],
   "source": [
    "dados = pd.read_csv('dados_estudantes.csv')\n",
    "dados.head()"
   ]
  },
  {
   "cell_type": "code",
   "execution_count": 284,
   "metadata": {},
   "outputs": [
    {
     "name": "stdout",
     "output_type": "stream",
     "text": [
      "<class 'pandas.core.frame.DataFrame'>\n",
      "RangeIndex: 4424 entries, 0 to 4423\n",
      "Data columns (total 28 columns):\n",
      " #   Column                                    Non-Null Count  Dtype  \n",
      "---  ------                                    --------------  -----  \n",
      " 0   Estado civil                              4424 non-null   object \n",
      " 1   Migração                                  4424 non-null   object \n",
      " 2   Sexo                                      4424 non-null   object \n",
      " 3   Idade na matrícula                        4424 non-null   int64  \n",
      " 4   Estrangeiro                               4424 non-null   object \n",
      " 5   Necessidades educacionais especiais       4424 non-null   object \n",
      " 6   Devedor                                   4424 non-null   object \n",
      " 7   Taxas de matrícula em dia                 4424 non-null   object \n",
      " 8   Bolsista                                  4424 non-null   object \n",
      " 9   Taxa de desemprego                        4424 non-null   float64\n",
      " 10  Taxa de inflação                          4424 non-null   float64\n",
      " 11  PIB                                       4424 non-null   float64\n",
      " 12  Curso                                     4424 non-null   object \n",
      " 13  Período                                   4424 non-null   object \n",
      " 14  Qualificação prévia                       4424 non-null   object \n",
      " 15  disciplinas 1º semestre (creditadas)      4424 non-null   int64  \n",
      " 16  disciplinas 1º semestre (matriculadas)    4424 non-null   int64  \n",
      " 17  disciplinas 1º semestre (avaliações)      4424 non-null   int64  \n",
      " 18  disciplinas 1º semestre (aprovadas)       4424 non-null   int64  \n",
      " 19  disciplinas 1º semestre (notas)           4424 non-null   float64\n",
      " 20  disciplinas 1º semestre (sem avaliações)  4424 non-null   int64  \n",
      " 21  disciplinas 2º semestre (creditadas)      4424 non-null   int64  \n",
      " 22  disciplinas 2º semestre (matriculadas)    4424 non-null   int64  \n",
      " 23  disciplinas 2º semestre (avaliações)      4424 non-null   int64  \n",
      " 24  disciplinas 2º semestre (aprovadas)       4424 non-null   int64  \n",
      " 25  disciplinas 2º semestre (notas)           4424 non-null   float64\n",
      " 26  disciplinas 2º semestre (sem avaliações)  4424 non-null   int64  \n",
      " 27  Target                                    4424 non-null   object \n",
      "dtypes: float64(5), int64(11), object(12)\n",
      "memory usage: 967.9+ KB\n"
     ]
    }
   ],
   "source": [
    "dados.info()"
   ]
  },
  {
   "cell_type": "code",
   "execution_count": 285,
   "metadata": {},
   "outputs": [
    {
     "data": {
      "text/plain": [
       "array(['Desistente', 'Graduado', 'Matriculado'], dtype=object)"
      ]
     },
     "execution_count": 285,
     "metadata": {},
     "output_type": "execute_result"
    }
   ],
   "source": [
    "dados['Target'].unique()"
   ]
  },
  {
   "cell_type": "markdown",
   "metadata": {},
   "source": [
    "Dados demográficos"
   ]
  },
  {
   "cell_type": "code",
   "execution_count": 286,
   "metadata": {},
   "outputs": [
    {
     "data": {
      "text/html": [
       "<div>\n",
       "<style scoped>\n",
       "    .dataframe tbody tr th:only-of-type {\n",
       "        vertical-align: middle;\n",
       "    }\n",
       "\n",
       "    .dataframe tbody tr th {\n",
       "        vertical-align: top;\n",
       "    }\n",
       "\n",
       "    .dataframe thead th {\n",
       "        text-align: right;\n",
       "    }\n",
       "</style>\n",
       "<table border=\"1\" class=\"dataframe\">\n",
       "  <thead>\n",
       "    <tr style=\"text-align: right;\">\n",
       "      <th></th>\n",
       "      <th>Idade na matrícula</th>\n",
       "      <th>Taxa de desemprego</th>\n",
       "      <th>Taxa de inflação</th>\n",
       "      <th>PIB</th>\n",
       "    </tr>\n",
       "  </thead>\n",
       "  <tbody>\n",
       "    <tr>\n",
       "      <th>count</th>\n",
       "      <td>4424.000000</td>\n",
       "      <td>4424.000000</td>\n",
       "      <td>4424.000000</td>\n",
       "      <td>4424.000000</td>\n",
       "    </tr>\n",
       "    <tr>\n",
       "      <th>mean</th>\n",
       "      <td>23.265145</td>\n",
       "      <td>11.566139</td>\n",
       "      <td>1.228029</td>\n",
       "      <td>0.001969</td>\n",
       "    </tr>\n",
       "    <tr>\n",
       "      <th>std</th>\n",
       "      <td>7.587816</td>\n",
       "      <td>2.663850</td>\n",
       "      <td>1.382711</td>\n",
       "      <td>2.269935</td>\n",
       "    </tr>\n",
       "    <tr>\n",
       "      <th>min</th>\n",
       "      <td>17.000000</td>\n",
       "      <td>7.600000</td>\n",
       "      <td>-0.800000</td>\n",
       "      <td>-4.060000</td>\n",
       "    </tr>\n",
       "    <tr>\n",
       "      <th>25%</th>\n",
       "      <td>19.000000</td>\n",
       "      <td>9.400000</td>\n",
       "      <td>0.300000</td>\n",
       "      <td>-1.700000</td>\n",
       "    </tr>\n",
       "    <tr>\n",
       "      <th>50%</th>\n",
       "      <td>20.000000</td>\n",
       "      <td>11.100000</td>\n",
       "      <td>1.400000</td>\n",
       "      <td>0.320000</td>\n",
       "    </tr>\n",
       "    <tr>\n",
       "      <th>75%</th>\n",
       "      <td>25.000000</td>\n",
       "      <td>13.900000</td>\n",
       "      <td>2.600000</td>\n",
       "      <td>1.790000</td>\n",
       "    </tr>\n",
       "    <tr>\n",
       "      <th>max</th>\n",
       "      <td>70.000000</td>\n",
       "      <td>16.200000</td>\n",
       "      <td>3.700000</td>\n",
       "      <td>3.510000</td>\n",
       "    </tr>\n",
       "  </tbody>\n",
       "</table>\n",
       "</div>"
      ],
      "text/plain": [
       "       Idade na matrícula  Taxa de desemprego  Taxa de inflação          PIB\n",
       "count         4424.000000         4424.000000       4424.000000  4424.000000\n",
       "mean            23.265145           11.566139          1.228029     0.001969\n",
       "std              7.587816            2.663850          1.382711     2.269935\n",
       "min             17.000000            7.600000         -0.800000    -4.060000\n",
       "25%             19.000000            9.400000          0.300000    -1.700000\n",
       "50%             20.000000           11.100000          1.400000     0.320000\n",
       "75%             25.000000           13.900000          2.600000     1.790000\n",
       "max             70.000000           16.200000          3.700000     3.510000"
      ]
     },
     "execution_count": 286,
     "metadata": {},
     "output_type": "execute_result"
    }
   ],
   "source": [
    "dados[['Idade na matrícula', 'Taxa de desemprego', 'Taxa de inflação', 'PIB']].describe()"
   ]
  },
  {
   "cell_type": "code",
   "execution_count": 287,
   "metadata": {},
   "outputs": [
    {
     "data": {
      "text/html": [
       "<div>\n",
       "<style scoped>\n",
       "    .dataframe tbody tr th:only-of-type {\n",
       "        vertical-align: middle;\n",
       "    }\n",
       "\n",
       "    .dataframe tbody tr th {\n",
       "        vertical-align: top;\n",
       "    }\n",
       "\n",
       "    .dataframe thead th {\n",
       "        text-align: right;\n",
       "    }\n",
       "</style>\n",
       "<table border=\"1\" class=\"dataframe\">\n",
       "  <thead>\n",
       "    <tr style=\"text-align: right;\">\n",
       "      <th></th>\n",
       "      <th>Estado civil</th>\n",
       "      <th>Migração</th>\n",
       "      <th>Sexo</th>\n",
       "      <th>Estrangeiro</th>\n",
       "      <th>Necessidades educacionais especiais</th>\n",
       "      <th>Devedor</th>\n",
       "      <th>Taxas de matrícula em dia</th>\n",
       "      <th>Bolsista</th>\n",
       "      <th>Curso</th>\n",
       "      <th>Período</th>\n",
       "      <th>Qualificação prévia</th>\n",
       "      <th>Target</th>\n",
       "    </tr>\n",
       "  </thead>\n",
       "  <tbody>\n",
       "    <tr>\n",
       "      <th>count</th>\n",
       "      <td>4424</td>\n",
       "      <td>4424</td>\n",
       "      <td>4424</td>\n",
       "      <td>4424</td>\n",
       "      <td>4424</td>\n",
       "      <td>4424</td>\n",
       "      <td>4424</td>\n",
       "      <td>4424</td>\n",
       "      <td>4424</td>\n",
       "      <td>4424</td>\n",
       "      <td>4424</td>\n",
       "      <td>4424</td>\n",
       "    </tr>\n",
       "    <tr>\n",
       "      <th>unique</th>\n",
       "      <td>6</td>\n",
       "      <td>2</td>\n",
       "      <td>2</td>\n",
       "      <td>2</td>\n",
       "      <td>2</td>\n",
       "      <td>2</td>\n",
       "      <td>2</td>\n",
       "      <td>2</td>\n",
       "      <td>17</td>\n",
       "      <td>2</td>\n",
       "      <td>17</td>\n",
       "      <td>3</td>\n",
       "    </tr>\n",
       "    <tr>\n",
       "      <th>top</th>\n",
       "      <td>Solteiro</td>\n",
       "      <td>Sim</td>\n",
       "      <td>Feminino</td>\n",
       "      <td>Não</td>\n",
       "      <td>Não</td>\n",
       "      <td>Não</td>\n",
       "      <td>Sim</td>\n",
       "      <td>Não</td>\n",
       "      <td>Enfermagem</td>\n",
       "      <td>Diurno</td>\n",
       "      <td>Educação secundária</td>\n",
       "      <td>Graduado</td>\n",
       "    </tr>\n",
       "    <tr>\n",
       "      <th>freq</th>\n",
       "      <td>3919</td>\n",
       "      <td>2426</td>\n",
       "      <td>2868</td>\n",
       "      <td>4314</td>\n",
       "      <td>4373</td>\n",
       "      <td>3921</td>\n",
       "      <td>3896</td>\n",
       "      <td>3325</td>\n",
       "      <td>766</td>\n",
       "      <td>3941</td>\n",
       "      <td>3717</td>\n",
       "      <td>2209</td>\n",
       "    </tr>\n",
       "  </tbody>\n",
       "</table>\n",
       "</div>"
      ],
      "text/plain": [
       "       Estado civil Migração      Sexo Estrangeiro  \\\n",
       "count          4424     4424      4424        4424   \n",
       "unique            6        2         2           2   \n",
       "top        Solteiro      Sim  Feminino         Não   \n",
       "freq           3919     2426      2868        4314   \n",
       "\n",
       "       Necessidades educacionais especiais Devedor Taxas de matrícula em dia  \\\n",
       "count                                 4424    4424                      4424   \n",
       "unique                                   2       2                         2   \n",
       "top                                    Não     Não                       Sim   \n",
       "freq                                  4373    3921                      3896   \n",
       "\n",
       "       Bolsista       Curso Período  Qualificação prévia    Target  \n",
       "count      4424        4424    4424                 4424      4424  \n",
       "unique        2          17       2                   17         3  \n",
       "top         Não  Enfermagem  Diurno  Educação secundária  Graduado  \n",
       "freq       3325         766    3941                 3717      2209  "
      ]
     },
     "execution_count": 287,
     "metadata": {},
     "output_type": "execute_result"
    }
   ],
   "source": [
    "colunas_categoricas = ['Estado civil', 'Migração', 'Sexo', 'Estrangeiro', 'Necessidades educacionais especiais', 'Devedor',  'Taxas de matrícula em dia', 'Bolsista', 'Curso', 'Período', 'Qualificação prévia', 'Target']\n",
    "dados[colunas_categoricas].describe()\n"
   ]
  },
  {
   "cell_type": "code",
   "execution_count": 288,
   "metadata": {},
   "outputs": [
    {
     "data": {
      "text/plain": [
       "Estado civil\n",
       "Solteiro               88.584991\n",
       "Casado                  8.566908\n",
       "Divorciado              2.056962\n",
       "União Estável           0.565099\n",
       "Legalmente Separado     0.135624\n",
       "Viúvo                   0.090416\n",
       "Name: proportion, dtype: float64"
      ]
     },
     "execution_count": 288,
     "metadata": {},
     "output_type": "execute_result"
    }
   ],
   "source": [
    "dados['Estado civil'].value_counts(normalize=True)*100"
   ]
  },
  {
   "cell_type": "code",
   "execution_count": 289,
   "metadata": {},
   "outputs": [
    {
     "data": {
      "image/png": "[encoded data removed]",
      "text/plain": [
       "<Figure size 500x500 with 1 Axes>"
      ]
     },
     "metadata": {},
     "output_type": "display_data"
    },
    {
     "data": {
      "image/png": "[encoded data removed]",
      "text/plain": [
       "<Figure size 632x500 with 1 Axes>"
      ]
     },
     "metadata": {},
     "output_type": "display_data"
    },
    {
     "data": {
      "image/png": "[encoded data removed]",
      "text/plain": [
       "<Figure size 640x480 with 1 Axes>"
      ]
     },
     "metadata": {},
     "output_type": "display_data"
    }
   ],
   "source": [
    "sns.displot(dados['Idade na matrícula'], bins=20)\n",
    "plt.show()\n",
    "\n",
    "\n",
    "color_dict = {'Desistente': 'red', 'Graduado': 'green', 'Matriculado': 'blue'}\n",
    "sns.set_palette(list(color_dict.values())) #Padronizando como paleta de cores\n",
    "\n",
    "\n",
    "sns.displot(data=dados, x='Idade na matrícula', hue='Target', kind='kde', fill=True)\n",
    "plt.show() #Distribuição normal dos alunos em relação a sua situação.\n",
    "\n",
    "sns.countplot(x='Sexo', hue='Target', data=dados)\n",
    "plt.show()"
   ]
  },
  {
   "cell_type": "markdown",
   "metadata": {},
   "source": [
    "Dados socioeconômicos e macroeconômicos"
   ]
  },
  {
   "cell_type": "code",
   "execution_count": 290,
   "metadata": {},
   "outputs": [
    {
     "data": {
      "image/png": "[encoded data removed]",
      "text/plain": [
       "<Figure size 640x480 with 1 Axes>"
      ]
     },
     "metadata": {},
     "output_type": "display_data"
    },
    {
     "data": {
      "image/png": "[encoded data removed]",
      "text/plain": [
       "<Figure size 640x480 with 1 Axes>"
      ]
     },
     "metadata": {},
     "output_type": "display_data"
    },
    {
     "data": {
      "image/png": "[encoded data removed]",
      "text/plain": [
       "<Figure size 640x480 with 1 Axes>"
      ]
     },
     "metadata": {},
     "output_type": "display_data"
    },
    {
     "data": {
      "image/png": "[encoded data removed]",
      "text/plain": [
       "<Figure size 640x480 with 1 Axes>"
      ]
     },
     "metadata": {},
     "output_type": "display_data"
    },
    {
     "ename": "ValueError",
     "evalue": "Mime type rendering requires nbformat>=4.2.0 but it is not installed",
     "output_type": "error",
     "traceback": [
      "\u001b[1;31m---------------------------------------------------------------------------\u001b[0m",
      "\u001b[1;31mValueError\u001b[0m                                Traceback (most recent call last)",
      "File \u001b[1;32m~\\AppData\\Local\\Packages\\PythonSoftwareFoundation.Python.3.11_qbz5n2kfra8p0\\LocalCache\\local-packages\\Python311\\site-packages\\IPython\\core\\formatters.py:922\u001b[0m, in \u001b[0;36mIPythonDisplayFormatter.__call__\u001b[1;34m(self, obj)\u001b[0m\n\u001b[0;32m    920\u001b[0m method \u001b[38;5;241m=\u001b[39m get_real_method(obj, \u001b[38;5;28mself\u001b[39m\u001b[38;5;241m.\u001b[39mprint_method)\n\u001b[0;32m    921\u001b[0m \u001b[38;5;28;01mif\u001b[39;00m method \u001b[38;5;129;01mis\u001b[39;00m \u001b[38;5;129;01mnot\u001b[39;00m \u001b[38;5;28;01mNone\u001b[39;00m:\n\u001b[1;32m--> 922\u001b[0m     \u001b[43mmethod\u001b[49m\u001b[43m(\u001b[49m\u001b[43m)\u001b[49m\n\u001b[0;32m    923\u001b[0m     \u001b[38;5;28;01mreturn\u001b[39;00m \u001b[38;5;28;01mTrue\u001b[39;00m\n",
      "File \u001b[1;32m~\\AppData\\Local\\Packages\\PythonSoftwareFoundation.Python.3.11_qbz5n2kfra8p0\\LocalCache\\local-packages\\Python311\\site-packages\\plotly\\basedatatypes.py:832\u001b[0m, in \u001b[0;36mBaseFigure._ipython_display_\u001b[1;34m(self)\u001b[0m\n\u001b[0;32m    829\u001b[0m \u001b[38;5;28;01mimport\u001b[39;00m \u001b[38;5;21;01mplotly\u001b[39;00m\u001b[38;5;21;01m.\u001b[39;00m\u001b[38;5;21;01mio\u001b[39;00m \u001b[38;5;28;01mas\u001b[39;00m \u001b[38;5;21;01mpio\u001b[39;00m\n\u001b[0;32m    831\u001b[0m \u001b[38;5;28;01mif\u001b[39;00m pio\u001b[38;5;241m.\u001b[39mrenderers\u001b[38;5;241m.\u001b[39mrender_on_display \u001b[38;5;129;01mand\u001b[39;00m pio\u001b[38;5;241m.\u001b[39mrenderers\u001b[38;5;241m.\u001b[39mdefault:\n\u001b[1;32m--> 832\u001b[0m     \u001b[43mpio\u001b[49m\u001b[38;5;241;43m.\u001b[39;49m\u001b[43mshow\u001b[49m\u001b[43m(\u001b[49m\u001b[38;5;28;43mself\u001b[39;49m\u001b[43m)\u001b[49m\n\u001b[0;32m    833\u001b[0m \u001b[38;5;28;01melse\u001b[39;00m:\n\u001b[0;32m    834\u001b[0m     \u001b[38;5;28mprint\u001b[39m(\u001b[38;5;28mrepr\u001b[39m(\u001b[38;5;28mself\u001b[39m))\n",
      "File \u001b[1;32m~\\AppData\\Local\\Packages\\PythonSoftwareFoundation.Python.3.11_qbz5n2kfra8p0\\LocalCache\\local-packages\\Python311\\site-packages\\plotly\\io\\_renderers.py:394\u001b[0m, in \u001b[0;36mshow\u001b[1;34m(fig, renderer, validate, **kwargs)\u001b[0m\n\u001b[0;32m    389\u001b[0m         \u001b[38;5;28;01mraise\u001b[39;00m \u001b[38;5;167;01mValueError\u001b[39;00m(\n\u001b[0;32m    390\u001b[0m             \u001b[38;5;124m\"\u001b[39m\u001b[38;5;124mMime type rendering requires ipython but it is not installed\u001b[39m\u001b[38;5;124m\"\u001b[39m\n\u001b[0;32m    391\u001b[0m         )\n\u001b[0;32m    393\u001b[0m     \u001b[38;5;28;01mif\u001b[39;00m \u001b[38;5;129;01mnot\u001b[39;00m nbformat \u001b[38;5;129;01mor\u001b[39;00m Version(nbformat\u001b[38;5;241m.\u001b[39m__version__) \u001b[38;5;241m<\u001b[39m Version(\u001b[38;5;124m\"\u001b[39m\u001b[38;5;124m4.2.0\u001b[39m\u001b[38;5;124m\"\u001b[39m):\n\u001b[1;32m--> 394\u001b[0m         \u001b[38;5;28;01mraise\u001b[39;00m \u001b[38;5;167;01mValueError\u001b[39;00m(\n\u001b[0;32m    395\u001b[0m             \u001b[38;5;124m\"\u001b[39m\u001b[38;5;124mMime type rendering requires nbformat>=4.2.0 but it is not installed\u001b[39m\u001b[38;5;124m\"\u001b[39m\n\u001b[0;32m    396\u001b[0m         )\n\u001b[0;32m    398\u001b[0m     ipython_display\u001b[38;5;241m.\u001b[39mdisplay(bundle, raw\u001b[38;5;241m=\u001b[39m\u001b[38;5;28;01mTrue\u001b[39;00m)\n\u001b[0;32m    400\u001b[0m \u001b[38;5;66;03m# external renderers\u001b[39;00m\n",
      "\u001b[1;31mValueError\u001b[0m: Mime type rendering requires nbformat>=4.2.0 but it is not installed"
     ]
    },
    {
     "data": {
      "application/vnd.plotly.v1+json": {
       "config": {
        "plotlyServerURL": "https://plot.ly"
       },
       "data": [
        {
         "alignmentgroup": "True",
         "hovertemplate": "Target=Desistente<br>Porcentagem=%{x}<br>Curso=%{y}<extra></extra>",
         "legendgroup": "Desistente",
         "marker": {
          "color": "red",
          "pattern": {
           "shape": ""
          }
         },
         "name": "Desistente",
         "offsetgroup": "Desistente",
         "orientation": "h",
         "showlegend": true,
         "textposition": "auto",
         "type": "bar",
         "x": [
          40.95238095238095,
          38.139534883720934,
          22.566371681415927,
          44.27083333333333,
          15.404699738903393,
          26.706231454005934,
          54.11764705882353,
          35.26315789473684,
          50.74626865671642,
          35.44776119402985,
          30.513595166163142,
          38.372093023255815,
          18.30985915492958,
          33.02325581395349,
          66.66666666666666,
          38.095238095238095,
          55.319148936170215
         ],
         "xaxis": "x",
         "y": [
          "Agronomia",
          "Animação e Design Multimídia",
          "Design de Comunicação",
          "Educação Básica",
          "Enfermagem",
          "Enfermagem Veterinária",
          "Engenharia da computação",
          "Gestão",
          "Gestão (noturno)",
          "Gestão de Publicidade e Marketing",
          "Jornalismo e Comunicação",
          "Odontologia",
          "Serviço Social",
          "Serviço Social (noturno)",
          "Tecnologias de Produção de Biocombustíveis",
          "Turismo",
          "Zootecnia"
         ],
         "yaxis": "y"
        },
        {
         "alignmentgroup": "True",
         "hovertemplate": "Target=Graduado<br>Porcentagem=%{x}<br>Curso=%{y}<extra></extra>",
         "legendgroup": "Graduado",
         "marker": {
          "color": "green",
          "pattern": {
           "shape": ""
          }
         },
         "name": "Graduado",
         "offsetgroup": "Graduado",
         "orientation": "h",
         "showlegend": true,
         "textposition": "auto",
         "type": "bar",
         "x": [
          41.42857142857143,
          44.651162790697676,
          58.849557522123895,
          29.6875,
          71.54046997389034,
          51.038575667655785,
          8.235294117647058,
          36.31578947368421,
          29.1044776119403,
          46.64179104477612,
          59.21450151057401,
          41.86046511627907,
          69.85915492957746,
          57.20930232558139,
          8.333333333333332,
          45.63492063492063,
          29.78723404255319
         ],
         "xaxis": "x",
         "y": [
          "Agronomia",
          "Animação e Design Multimídia",
          "Design de Comunicação",
          "Educação Básica",
          "Enfermagem",
          "Enfermagem Veterinária",
          "Engenharia da computação",
          "Gestão",
          "Gestão (noturno)",
          "Gestão de Publicidade e Marketing",
          "Jornalismo e Comunicação",
          "Odontologia",
          "Serviço Social",
          "Serviço Social (noturno)",
          "Tecnologias de Produção de Biocombustíveis",
          "Turismo",
          "Zootecnia"
         ],
         "yaxis": "y"
        },
        {
         "alignmentgroup": "True",
         "hovertemplate": "Target=Matriculado<br>Porcentagem=%{x}<br>Curso=%{y}<extra></extra>",
         "legendgroup": "Matriculado",
         "marker": {
          "color": "blue",
          "pattern": {
           "shape": ""
          }
         },
         "name": "Matriculado",
         "offsetgroup": "Matriculado",
         "orientation": "h",
         "showlegend": true,
         "textposition": "auto",
         "type": "bar",
         "x": [
          17.61904761904762,
          17.209302325581397,
          18.58407079646018,
          26.041666666666668,
          13.054830287206268,
          22.255192878338278,
          37.64705882352941,
          28.421052631578945,
          20.149253731343283,
          17.91044776119403,
          10.27190332326284,
          19.767441860465116,
          11.830985915492958,
          9.767441860465116,
          25,
          16.26984126984127,
          14.893617021276595
         ],
         "xaxis": "x",
         "y": [
          "Agronomia",
          "Animação e Design Multimídia",
          "Design de Comunicação",
          "Educação Básica",
          "Enfermagem",
          "Enfermagem Veterinária",
          "Engenharia da computação",
          "Gestão",
          "Gestão (noturno)",
          "Gestão de Publicidade e Marketing",
          "Jornalismo e Comunicação",
          "Odontologia",
          "Serviço Social",
          "Serviço Social (noturno)",
          "Tecnologias de Produção de Biocombustíveis",
          "Turismo",
          "Zootecnia"
         ],
         "yaxis": "y"
        }
       ],
       "layout": {
        "barmode": "relative",
        "legend": {
         "title": {
          "text": "Target"
         },
         "tracegroupgap": 0
        },
        "margin": {
         "t": 60
        },
        "template": {
         "data": {
          "bar": [
           {
            "error_x": {
             "color": "#2a3f5f"
            },
            "error_y": {
             "color": "#2a3f5f"
            },
            "marker": {
             "line": {
              "color": "#E5ECF6",
              "width": 0.5
             },
             "pattern": {
              "fillmode": "overlay",
              "size": 10,
              "solidity": 0.2
             }
            },
            "type": "bar"
           }
          ],
          "barpolar": [
           {
            "marker": {
             "line": {
              "color": "#E5ECF6",
              "width": 0.5
             },
             "pattern": {
              "fillmode": "overlay",
              "size": 10,
              "solidity": 0.2
             }
            },
            "type": "barpolar"
           }
          ],
          "carpet": [
           {
            "aaxis": {
             "endlinecolor": "#2a3f5f",
             "gridcolor": "white",
             "linecolor": "white",
             "minorgridcolor": "white",
             "startlinecolor": "#2a3f5f"
            },
            "baxis": {
             "endlinecolor": "#2a3f5f",
             "gridcolor": "white",
             "linecolor": "white",
             "minorgridcolor": "white",
             "startlinecolor": "#2a3f5f"
            },
            "type": "carpet"
           }
          ],
          "choropleth": [
           {
            "colorbar": {
             "outlinewidth": 0,
             "ticks": ""
            },
            "type": "choropleth"
           }
          ],
          "contour": [
           {
            "colorbar": {
             "outlinewidth": 0,
             "ticks": ""
            },
            "colorscale": [
             [
              0,
              "#0d0887"
             ],
             [
              0.1111111111111111,
              "#46039f"
             ],
             [
              0.2222222222222222,
              "#7201a8"
             ],
             [
              0.3333333333333333,
              "#9c179e"
             ],
             [
              0.4444444444444444,
              "#bd3786"
             ],
             [
              0.5555555555555556,
              "#d8576b"
             ],
             [
              0.6666666666666666,
              "#ed7953"
             ],
             [
              0.7777777777777778,
              "#fb9f3a"
             ],
             [
              0.8888888888888888,
              "#fdca26"
             ],
             [
              1,
              "#f0f921"
             ]
            ],
            "type": "contour"
           }
          ],
          "contourcarpet": [
           {
            "colorbar": {
             "outlinewidth": 0,
             "ticks": ""
            },
            "type": "contourcarpet"
           }
          ],
          "heatmap": [
           {
            "colorbar": {
             "outlinewidth": 0,
             "ticks": ""
            },
            "colorscale": [
             [
              0,
              "#0d0887"
             ],
             [
              0.1111111111111111,
              "#46039f"
             ],
             [
              0.2222222222222222,
              "#7201a8"
             ],
             [
              0.3333333333333333,
              "#9c179e"
             ],
             [
              0.4444444444444444,
              "#bd3786"
             ],
             [
              0.5555555555555556,
              "#d8576b"
             ],
             [
              0.6666666666666666,
              "#ed7953"
             ],
             [
              0.7777777777777778,
              "#fb9f3a"
             ],
             [
              0.8888888888888888,
              "#fdca26"
             ],
             [
              1,
              "#f0f921"
             ]
            ],
            "type": "heatmap"
           }
          ],
          "heatmapgl": [
           {
            "colorbar": {
             "outlinewidth": 0,
             "ticks": ""
            },
            "colorscale": [
             [
              0,
              "#0d0887"
             ],
             [
              0.1111111111111111,
              "#46039f"
             ],
             [
              0.2222222222222222,
              "#7201a8"
             ],
             [
              0.3333333333333333,
              "#9c179e"
             ],
             [
              0.4444444444444444,
              "#bd3786"
             ],
             [
              0.5555555555555556,
              "#d8576b"
             ],
             [
              0.6666666666666666,
              "#ed7953"
             ],
             [
              0.7777777777777778,
              "#fb9f3a"
             ],
             [
              0.8888888888888888,
              "#fdca26"
             ],
             [
              1,
              "#f0f921"
             ]
            ],
            "type": "heatmapgl"
           }
          ],
          "histogram": [
           {
            "marker": {
             "pattern": {
              "fillmode": "overlay",
              "size": 10,
              "solidity": 0.2
             }
            },
            "type": "histogram"
           }
          ],
          "histogram2d": [
           {
            "colorbar": {
             "outlinewidth": 0,
             "ticks": ""
            },
            "colorscale": [
             [
              0,
              "#0d0887"
             ],
             [
              0.1111111111111111,
              "#46039f"
             ],
             [
              0.2222222222222222,
              "#7201a8"
             ],
             [
              0.3333333333333333,
              "#9c179e"
             ],
             [
              0.4444444444444444,
              "#bd3786"
             ],
             [
              0.5555555555555556,
              "#d8576b"
             ],
             [
              0.6666666666666666,
              "#ed7953"
             ],
             [
              0.7777777777777778,
              "#fb9f3a"
             ],
             [
              0.8888888888888888,
              "#fdca26"
             ],
             [
              1,
              "#f0f921"
             ]
            ],
            "type": "histogram2d"
           }
          ],
          "histogram2dcontour": [
           {
            "colorbar": {
             "outlinewidth": 0,
             "ticks": ""
            },
            "colorscale": [
             [
              0,
              "#0d0887"
             ],
             [
              0.1111111111111111,
              "#46039f"
             ],
             [
              0.2222222222222222,
              "#7201a8"
             ],
             [
              0.3333333333333333,
              "#9c179e"
             ],
             [
              0.4444444444444444,
              "#bd3786"
             ],
             [
              0.5555555555555556,
              "#d8576b"
             ],
             [
              0.6666666666666666,
              "#ed7953"
             ],
             [
              0.7777777777777778,
              "#fb9f3a"
             ],
             [
              0.8888888888888888,
              "#fdca26"
             ],
             [
              1,
              "#f0f921"
             ]
            ],
            "type": "histogram2dcontour"
           }
          ],
          "mesh3d": [
           {
            "colorbar": {
             "outlinewidth": 0,
             "ticks": ""
            },
            "type": "mesh3d"
           }
          ],
          "parcoords": [
           {
            "line": {
             "colorbar": {
              "outlinewidth": 0,
              "ticks": ""
             }
            },
            "type": "parcoords"
           }
          ],
          "pie": [
           {
            "automargin": true,
            "type": "pie"
           }
          ],
          "scatter": [
           {
            "fillpattern": {
             "fillmode": "overlay",
             "size": 10,
             "solidity": 0.2
            },
            "type": "scatter"
           }
          ],
          "scatter3d": [
           {
            "line": {
             "colorbar": {
              "outlinewidth": 0,
              "ticks": ""
             }
            },
            "marker": {
             "colorbar": {
              "outlinewidth": 0,
              "ticks": ""
             }
            },
            "type": "scatter3d"
           }
          ],
          "scattercarpet": [
           {
            "marker": {
             "colorbar": {
              "outlinewidth": 0,
              "ticks": ""
             }
            },
            "type": "scattercarpet"
           }
          ],
          "scattergeo": [
           {
            "marker": {
             "colorbar": {
              "outlinewidth": 0,
              "ticks": ""
             }
            },
            "type": "scattergeo"
           }
          ],
          "scattergl": [
           {
            "marker": {
             "colorbar": {
              "outlinewidth": 0,
              "ticks": ""
             }
            },
            "type": "scattergl"
           }
          ],
          "scattermapbox": [
           {
            "marker": {
             "colorbar": {
              "outlinewidth": 0,
              "ticks": ""
             }
            },
            "type": "scattermapbox"
           }
          ],
          "scatterpolar": [
           {
            "marker": {
             "colorbar": {
              "outlinewidth": 0,
              "ticks": ""
             }
            },
            "type": "scatterpolar"
           }
          ],
          "scatterpolargl": [
           {
            "marker": {
             "colorbar": {
              "outlinewidth": 0,
              "ticks": ""
             }
            },
            "type": "scatterpolargl"
           }
          ],
          "scatterternary": [
           {
            "marker": {
             "colorbar": {
              "outlinewidth": 0,
              "ticks": ""
             }
            },
            "type": "scatterternary"
           }
          ],
          "surface": [
           {
            "colorbar": {
             "outlinewidth": 0,
             "ticks": ""
            },
            "colorscale": [
             [
              0,
              "#0d0887"
             ],
             [
              0.1111111111111111,
              "#46039f"
             ],
             [
              0.2222222222222222,
              "#7201a8"
             ],
             [
              0.3333333333333333,
              "#9c179e"
             ],
             [
              0.4444444444444444,
              "#bd3786"
             ],
             [
              0.5555555555555556,
              "#d8576b"
             ],
             [
              0.6666666666666666,
              "#ed7953"
             ],
             [
              0.7777777777777778,
              "#fb9f3a"
             ],
             [
              0.8888888888888888,
              "#fdca26"
             ],
             [
              1,
              "#f0f921"
             ]
            ],
            "type": "surface"
           }
          ],
          "table": [
           {
            "cells": {
             "fill": {
              "color": "#EBF0F8"
             },
             "line": {
              "color": "white"
             }
            },
            "header": {
             "fill": {
              "color": "#C8D4E3"
             },
             "line": {
              "color": "white"
             }
            },
            "type": "table"
           }
          ]
         },
         "layout": {
          "annotationdefaults": {
           "arrowcolor": "#2a3f5f",
           "arrowhead": 0,
           "arrowwidth": 1
          },
          "autotypenumbers": "strict",
          "coloraxis": {
           "colorbar": {
            "outlinewidth": 0,
            "ticks": ""
           }
          },
          "colorscale": {
           "diverging": [
            [
             0,
             "#8e0152"
            ],
            [
             0.1,
             "#c51b7d"
            ],
            [
             0.2,
             "#de77ae"
            ],
            [
             0.3,
             "#f1b6da"
            ],
            [
             0.4,
             "#fde0ef"
            ],
            [
             0.5,
             "#f7f7f7"
            ],
            [
             0.6,
             "#e6f5d0"
            ],
            [
             0.7,
             "#b8e186"
            ],
            [
             0.8,
             "#7fbc41"
            ],
            [
             0.9,
             "#4d9221"
            ],
            [
             1,
             "#276419"
            ]
           ],
           "sequential": [
            [
             0,
             "#0d0887"
            ],
            [
             0.1111111111111111,
             "#46039f"
            ],
            [
             0.2222222222222222,
             "#7201a8"
            ],
            [
             0.3333333333333333,
             "#9c179e"
            ],
            [
             0.4444444444444444,
             "#bd3786"
            ],
            [
             0.5555555555555556,
             "#d8576b"
            ],
            [
             0.6666666666666666,
             "#ed7953"
            ],
            [
             0.7777777777777778,
             "#fb9f3a"
            ],
            [
             0.8888888888888888,
             "#fdca26"
            ],
            [
             1,
             "#f0f921"
            ]
           ],
           "sequentialminus": [
            [
             0,
             "#0d0887"
            ],
            [
             0.1111111111111111,
             "#46039f"
            ],
            [
             0.2222222222222222,
             "#7201a8"
            ],
            [
             0.3333333333333333,
             "#9c179e"
            ],
            [
             0.4444444444444444,
             "#bd3786"
            ],
            [
             0.5555555555555556,
             "#d8576b"
            ],
            [
             0.6666666666666666,
             "#ed7953"
            ],
            [
             0.7777777777777778,
             "#fb9f3a"
            ],
            [
             0.8888888888888888,
             "#fdca26"
            ],
            [
             1,
             "#f0f921"
            ]
           ]
          },
          "colorway": [
           "#636efa",
           "#EF553B",
           "#00cc96",
           "#ab63fa",
           "#FFA15A",
           "#19d3f3",
           "#FF6692",
           "#B6E880",
           "#FF97FF",
           "#FECB52"
          ],
          "font": {
           "color": "#2a3f5f"
          },
          "geo": {
           "bgcolor": "white",
           "lakecolor": "white",
           "landcolor": "#E5ECF6",
           "showlakes": true,
           "showland": true,
           "subunitcolor": "white"
          },
          "hoverlabel": {
           "align": "left"
          },
          "hovermode": "closest",
          "mapbox": {
           "style": "light"
          },
          "paper_bgcolor": "white",
          "plot_bgcolor": "#E5ECF6",
          "polar": {
           "angularaxis": {
            "gridcolor": "white",
            "linecolor": "white",
            "ticks": ""
           },
           "bgcolor": "#E5ECF6",
           "radialaxis": {
            "gridcolor": "white",
            "linecolor": "white",
            "ticks": ""
           }
          },
          "scene": {
           "xaxis": {
            "backgroundcolor": "#E5ECF6",
            "gridcolor": "white",
            "gridwidth": 2,
            "linecolor": "white",
            "showbackground": true,
            "ticks": "",
            "zerolinecolor": "white"
           },
           "yaxis": {
            "backgroundcolor": "#E5ECF6",
            "gridcolor": "white",
            "gridwidth": 2,
            "linecolor": "white",
            "showbackground": true,
            "ticks": "",
            "zerolinecolor": "white"
           },
           "zaxis": {
            "backgroundcolor": "#E5ECF6",
            "gridcolor": "white",
            "gridwidth": 2,
            "linecolor": "white",
            "showbackground": true,
            "ticks": "",
            "zerolinecolor": "white"
           }
          },
          "shapedefaults": {
           "line": {
            "color": "#2a3f5f"
           }
          },
          "ternary": {
           "aaxis": {
            "gridcolor": "white",
            "linecolor": "white",
            "ticks": ""
           },
           "baxis": {
            "gridcolor": "white",
            "linecolor": "white",
            "ticks": ""
           },
           "bgcolor": "#E5ECF6",
           "caxis": {
            "gridcolor": "white",
            "linecolor": "white",
            "ticks": ""
           }
          },
          "title": {
           "x": 0.05
          },
          "xaxis": {
           "automargin": true,
           "gridcolor": "white",
           "linecolor": "white",
           "ticks": "",
           "title": {
            "standoff": 15
           },
           "zerolinecolor": "white",
           "zerolinewidth": 2
          },
          "yaxis": {
           "automargin": true,
           "gridcolor": "white",
           "linecolor": "white",
           "ticks": "",
           "title": {
            "standoff": 15
           },
           "zerolinecolor": "white",
           "zerolinewidth": 2
          }
         }
        },
        "xaxis": {
         "anchor": "y",
         "domain": [
          0,
          1
         ],
         "title": {
          "text": "Porcentagem"
         }
        },
        "yaxis": {
         "anchor": "x",
         "domain": [
          0,
          1
         ],
         "title": {
          "text": "Curso"
         }
        }
       }
      },
      "text/html": [
       "<div>                        <script type=\"text/javascript\">window.PlotlyConfig = {MathJaxConfig: 'local'};</script>\n",
       "        <script charset=\"utf-8\" src=\"https://cdn.plot.ly/plotly-2.29.1.min.js\"></script>                <div id=\"ad75f344-78c3-4d83-9fb6-64c3c0a1d91f\" class=\"plotly-graph-div\" style=\"height:100%; width:100%;\"></div>            <script type=\"text/javascript\">                                    window.PLOTLYENV=window.PLOTLYENV || {};                                    if (document.getElementById(\"ad75f344-78c3-4d83-9fb6-64c3c0a1d91f\")) {                    Plotly.newPlot(                        \"ad75f344-78c3-4d83-9fb6-64c3c0a1d91f\",                        [{\"alignmentgroup\":\"True\",\"hovertemplate\":\"Target=Desistente\\u003cbr\\u003ePorcentagem=%{x}\\u003cbr\\u003eCurso=%{y}\\u003cextra\\u003e\\u003c\\u002fextra\\u003e\",\"legendgroup\":\"Desistente\",\"marker\":{\"color\":\"red\",\"pattern\":{\"shape\":\"\"}},\"name\":\"Desistente\",\"offsetgroup\":\"Desistente\",\"orientation\":\"h\",\"showlegend\":true,\"textposition\":\"auto\",\"x\":[40.95238095238095,38.139534883720934,22.566371681415927,44.27083333333333,15.404699738903393,26.706231454005934,54.11764705882353,35.26315789473684,50.74626865671642,35.44776119402985,30.513595166163142,38.372093023255815,18.30985915492958,33.02325581395349,66.66666666666666,38.095238095238095,55.319148936170215],\"xaxis\":\"x\",\"y\":[\"Agronomia\",\"Anima\\u00e7\\u00e3o e Design Multim\\u00eddia\",\"Design de Comunica\\u00e7\\u00e3o\",\"Educa\\u00e7\\u00e3o B\\u00e1sica\",\"Enfermagem\",\"Enfermagem Veterin\\u00e1ria\",\"Engenharia da computa\\u00e7\\u00e3o\",\"Gest\\u00e3o\",\"Gest\\u00e3o (noturno)\",\"Gest\\u00e3o de Publicidade e Marketing\",\"Jornalismo e Comunica\\u00e7\\u00e3o\",\"Odontologia\",\"Servi\\u00e7o Social\",\"Servi\\u00e7o Social (noturno)\",\"Tecnologias de Produ\\u00e7\\u00e3o de Biocombust\\u00edveis\",\"Turismo\",\"Zootecnia\"],\"yaxis\":\"y\",\"type\":\"bar\"},{\"alignmentgroup\":\"True\",\"hovertemplate\":\"Target=Graduado\\u003cbr\\u003ePorcentagem=%{x}\\u003cbr\\u003eCurso=%{y}\\u003cextra\\u003e\\u003c\\u002fextra\\u003e\",\"legendgroup\":\"Graduado\",\"marker\":{\"color\":\"green\",\"pattern\":{\"shape\":\"\"}},\"name\":\"Graduado\",\"offsetgroup\":\"Graduado\",\"orientation\":\"h\",\"showlegend\":true,\"textposition\":\"auto\",\"x\":[41.42857142857143,44.651162790697676,58.849557522123895,29.6875,71.54046997389034,51.038575667655785,8.235294117647058,36.31578947368421,29.1044776119403,46.64179104477612,59.21450151057401,41.86046511627907,69.85915492957746,57.20930232558139,8.333333333333332,45.63492063492063,29.78723404255319],\"xaxis\":\"x\",\"y\":[\"Agronomia\",\"Anima\\u00e7\\u00e3o e Design Multim\\u00eddia\",\"Design de Comunica\\u00e7\\u00e3o\",\"Educa\\u00e7\\u00e3o B\\u00e1sica\",\"Enfermagem\",\"Enfermagem Veterin\\u00e1ria\",\"Engenharia da computa\\u00e7\\u00e3o\",\"Gest\\u00e3o\",\"Gest\\u00e3o (noturno)\",\"Gest\\u00e3o de Publicidade e Marketing\",\"Jornalismo e Comunica\\u00e7\\u00e3o\",\"Odontologia\",\"Servi\\u00e7o Social\",\"Servi\\u00e7o Social (noturno)\",\"Tecnologias de Produ\\u00e7\\u00e3o de Biocombust\\u00edveis\",\"Turismo\",\"Zootecnia\"],\"yaxis\":\"y\",\"type\":\"bar\"},{\"alignmentgroup\":\"True\",\"hovertemplate\":\"Target=Matriculado\\u003cbr\\u003ePorcentagem=%{x}\\u003cbr\\u003eCurso=%{y}\\u003cextra\\u003e\\u003c\\u002fextra\\u003e\",\"legendgroup\":\"Matriculado\",\"marker\":{\"color\":\"blue\",\"pattern\":{\"shape\":\"\"}},\"name\":\"Matriculado\",\"offsetgroup\":\"Matriculado\",\"orientation\":\"h\",\"showlegend\":true,\"textposition\":\"auto\",\"x\":[17.61904761904762,17.209302325581397,18.58407079646018,26.041666666666668,13.054830287206268,22.255192878338278,37.64705882352941,28.421052631578945,20.149253731343283,17.91044776119403,10.27190332326284,19.767441860465116,11.830985915492958,9.767441860465116,25.0,16.26984126984127,14.893617021276595],\"xaxis\":\"x\",\"y\":[\"Agronomia\",\"Anima\\u00e7\\u00e3o e Design Multim\\u00eddia\",\"Design de Comunica\\u00e7\\u00e3o\",\"Educa\\u00e7\\u00e3o B\\u00e1sica\",\"Enfermagem\",\"Enfermagem Veterin\\u00e1ria\",\"Engenharia da computa\\u00e7\\u00e3o\",\"Gest\\u00e3o\",\"Gest\\u00e3o (noturno)\",\"Gest\\u00e3o de Publicidade e Marketing\",\"Jornalismo e Comunica\\u00e7\\u00e3o\",\"Odontologia\",\"Servi\\u00e7o Social\",\"Servi\\u00e7o Social (noturno)\",\"Tecnologias de Produ\\u00e7\\u00e3o de Biocombust\\u00edveis\",\"Turismo\",\"Zootecnia\"],\"yaxis\":\"y\",\"type\":\"bar\"}],                        {\"template\":{\"data\":{\"histogram2dcontour\":[{\"type\":\"histogram2dcontour\",\"colorbar\":{\"outlinewidth\":0,\"ticks\":\"\"},\"colorscale\":[[0.0,\"#0d0887\"],[0.1111111111111111,\"#46039f\"],[0.2222222222222222,\"#7201a8\"],[0.3333333333333333,\"#9c179e\"],[0.4444444444444444,\"#bd3786\"],[0.5555555555555556,\"#d8576b\"],[0.6666666666666666,\"#ed7953\"],[0.7777777777777778,\"#fb9f3a\"],[0.8888888888888888,\"#fdca26\"],[1.0,\"#f0f921\"]]}],\"choropleth\":[{\"type\":\"choropleth\",\"colorbar\":{\"outlinewidth\":0,\"ticks\":\"\"}}],\"histogram2d\":[{\"type\":\"histogram2d\",\"colorbar\":{\"outlinewidth\":0,\"ticks\":\"\"},\"colorscale\":[[0.0,\"#0d0887\"],[0.1111111111111111,\"#46039f\"],[0.2222222222222222,\"#7201a8\"],[0.3333333333333333,\"#9c179e\"],[0.4444444444444444,\"#bd3786\"],[0.5555555555555556,\"#d8576b\"],[0.6666666666666666,\"#ed7953\"],[0.7777777777777778,\"#fb9f3a\"],[0.8888888888888888,\"#fdca26\"],[1.0,\"#f0f921\"]]}],\"heatmap\":[{\"type\":\"heatmap\",\"colorbar\":{\"outlinewidth\":0,\"ticks\":\"\"},\"colorscale\":[[0.0,\"#0d0887\"],[0.1111111111111111,\"#46039f\"],[0.2222222222222222,\"#7201a8\"],[0.3333333333333333,\"#9c179e\"],[0.4444444444444444,\"#bd3786\"],[0.5555555555555556,\"#d8576b\"],[0.6666666666666666,\"#ed7953\"],[0.7777777777777778,\"#fb9f3a\"],[0.8888888888888888,\"#fdca26\"],[1.0,\"#f0f921\"]]}],\"heatmapgl\":[{\"type\":\"heatmapgl\",\"colorbar\":{\"outlinewidth\":0,\"ticks\":\"\"},\"colorscale\":[[0.0,\"#0d0887\"],[0.1111111111111111,\"#46039f\"],[0.2222222222222222,\"#7201a8\"],[0.3333333333333333,\"#9c179e\"],[0.4444444444444444,\"#bd3786\"],[0.5555555555555556,\"#d8576b\"],[0.6666666666666666,\"#ed7953\"],[0.7777777777777778,\"#fb9f3a\"],[0.8888888888888888,\"#fdca26\"],[1.0,\"#f0f921\"]]}],\"contourcarpet\":[{\"type\":\"contourcarpet\",\"colorbar\":{\"outlinewidth\":0,\"ticks\":\"\"}}],\"contour\":[{\"type\":\"contour\",\"colorbar\":{\"outlinewidth\":0,\"ticks\":\"\"},\"colorscale\":[[0.0,\"#0d0887\"],[0.1111111111111111,\"#46039f\"],[0.2222222222222222,\"#7201a8\"],[0.3333333333333333,\"#9c179e\"],[0.4444444444444444,\"#bd3786\"],[0.5555555555555556,\"#d8576b\"],[0.6666666666666666,\"#ed7953\"],[0.7777777777777778,\"#fb9f3a\"],[0.8888888888888888,\"#fdca26\"],[1.0,\"#f0f921\"]]}],\"surface\":[{\"type\":\"surface\",\"colorbar\":{\"outlinewidth\":0,\"ticks\":\"\"},\"colorscale\":[[0.0,\"#0d0887\"],[0.1111111111111111,\"#46039f\"],[0.2222222222222222,\"#7201a8\"],[0.3333333333333333,\"#9c179e\"],[0.4444444444444444,\"#bd3786\"],[0.5555555555555556,\"#d8576b\"],[0.6666666666666666,\"#ed7953\"],[0.7777777777777778,\"#fb9f3a\"],[0.8888888888888888,\"#fdca26\"],[1.0,\"#f0f921\"]]}],\"mesh3d\":[{\"type\":\"mesh3d\",\"colorbar\":{\"outlinewidth\":0,\"ticks\":\"\"}}],\"scatter\":[{\"fillpattern\":{\"fillmode\":\"overlay\",\"size\":10,\"solidity\":0.2},\"type\":\"scatter\"}],\"parcoords\":[{\"type\":\"parcoords\",\"line\":{\"colorbar\":{\"outlinewidth\":0,\"ticks\":\"\"}}}],\"scatterpolargl\":[{\"type\":\"scatterpolargl\",\"marker\":{\"colorbar\":{\"outlinewidth\":0,\"ticks\":\"\"}}}],\"bar\":[{\"error_x\":{\"color\":\"#2a3f5f\"},\"error_y\":{\"color\":\"#2a3f5f\"},\"marker\":{\"line\":{\"color\":\"#E5ECF6\",\"width\":0.5},\"pattern\":{\"fillmode\":\"overlay\",\"size\":10,\"solidity\":0.2}},\"type\":\"bar\"}],\"scattergeo\":[{\"type\":\"scattergeo\",\"marker\":{\"colorbar\":{\"outlinewidth\":0,\"ticks\":\"\"}}}],\"scatterpolar\":[{\"type\":\"scatterpolar\",\"marker\":{\"colorbar\":{\"outlinewidth\":0,\"ticks\":\"\"}}}],\"histogram\":[{\"marker\":{\"pattern\":{\"fillmode\":\"overlay\",\"size\":10,\"solidity\":0.2}},\"type\":\"histogram\"}],\"scattergl\":[{\"type\":\"scattergl\",\"marker\":{\"colorbar\":{\"outlinewidth\":0,\"ticks\":\"\"}}}],\"scatter3d\":[{\"type\":\"scatter3d\",\"line\":{\"colorbar\":{\"outlinewidth\":0,\"ticks\":\"\"}},\"marker\":{\"colorbar\":{\"outlinewidth\":0,\"ticks\":\"\"}}}],\"scattermapbox\":[{\"type\":\"scattermapbox\",\"marker\":{\"colorbar\":{\"outlinewidth\":0,\"ticks\":\"\"}}}],\"scatterternary\":[{\"type\":\"scatterternary\",\"marker\":{\"colorbar\":{\"outlinewidth\":0,\"ticks\":\"\"}}}],\"scattercarpet\":[{\"type\":\"scattercarpet\",\"marker\":{\"colorbar\":{\"outlinewidth\":0,\"ticks\":\"\"}}}],\"carpet\":[{\"aaxis\":{\"endlinecolor\":\"#2a3f5f\",\"gridcolor\":\"white\",\"linecolor\":\"white\",\"minorgridcolor\":\"white\",\"startlinecolor\":\"#2a3f5f\"},\"baxis\":{\"endlinecolor\":\"#2a3f5f\",\"gridcolor\":\"white\",\"linecolor\":\"white\",\"minorgridcolor\":\"white\",\"startlinecolor\":\"#2a3f5f\"},\"type\":\"carpet\"}],\"table\":[{\"cells\":{\"fill\":{\"color\":\"#EBF0F8\"},\"line\":{\"color\":\"white\"}},\"header\":{\"fill\":{\"color\":\"#C8D4E3\"},\"line\":{\"color\":\"white\"}},\"type\":\"table\"}],\"barpolar\":[{\"marker\":{\"line\":{\"color\":\"#E5ECF6\",\"width\":0.5},\"pattern\":{\"fillmode\":\"overlay\",\"size\":10,\"solidity\":0.2}},\"type\":\"barpolar\"}],\"pie\":[{\"automargin\":true,\"type\":\"pie\"}]},\"layout\":{\"autotypenumbers\":\"strict\",\"colorway\":[\"#636efa\",\"#EF553B\",\"#00cc96\",\"#ab63fa\",\"#FFA15A\",\"#19d3f3\",\"#FF6692\",\"#B6E880\",\"#FF97FF\",\"#FECB52\"],\"font\":{\"color\":\"#2a3f5f\"},\"hovermode\":\"closest\",\"hoverlabel\":{\"align\":\"left\"},\"paper_bgcolor\":\"white\",\"plot_bgcolor\":\"#E5ECF6\",\"polar\":{\"bgcolor\":\"#E5ECF6\",\"angularaxis\":{\"gridcolor\":\"white\",\"linecolor\":\"white\",\"ticks\":\"\"},\"radialaxis\":{\"gridcolor\":\"white\",\"linecolor\":\"white\",\"ticks\":\"\"}},\"ternary\":{\"bgcolor\":\"#E5ECF6\",\"aaxis\":{\"gridcolor\":\"white\",\"linecolor\":\"white\",\"ticks\":\"\"},\"baxis\":{\"gridcolor\":\"white\",\"linecolor\":\"white\",\"ticks\":\"\"},\"caxis\":{\"gridcolor\":\"white\",\"linecolor\":\"white\",\"ticks\":\"\"}},\"coloraxis\":{\"colorbar\":{\"outlinewidth\":0,\"ticks\":\"\"}},\"colorscale\":{\"sequential\":[[0.0,\"#0d0887\"],[0.1111111111111111,\"#46039f\"],[0.2222222222222222,\"#7201a8\"],[0.3333333333333333,\"#9c179e\"],[0.4444444444444444,\"#bd3786\"],[0.5555555555555556,\"#d8576b\"],[0.6666666666666666,\"#ed7953\"],[0.7777777777777778,\"#fb9f3a\"],[0.8888888888888888,\"#fdca26\"],[1.0,\"#f0f921\"]],\"sequentialminus\":[[0.0,\"#0d0887\"],[0.1111111111111111,\"#46039f\"],[0.2222222222222222,\"#7201a8\"],[0.3333333333333333,\"#9c179e\"],[0.4444444444444444,\"#bd3786\"],[0.5555555555555556,\"#d8576b\"],[0.6666666666666666,\"#ed7953\"],[0.7777777777777778,\"#fb9f3a\"],[0.8888888888888888,\"#fdca26\"],[1.0,\"#f0f921\"]],\"diverging\":[[0,\"#8e0152\"],[0.1,\"#c51b7d\"],[0.2,\"#de77ae\"],[0.3,\"#f1b6da\"],[0.4,\"#fde0ef\"],[0.5,\"#f7f7f7\"],[0.6,\"#e6f5d0\"],[0.7,\"#b8e186\"],[0.8,\"#7fbc41\"],[0.9,\"#4d9221\"],[1,\"#276419\"]]},\"xaxis\":{\"gridcolor\":\"white\",\"linecolor\":\"white\",\"ticks\":\"\",\"title\":{\"standoff\":15},\"zerolinecolor\":\"white\",\"automargin\":true,\"zerolinewidth\":2},\"yaxis\":{\"gridcolor\":\"white\",\"linecolor\":\"white\",\"ticks\":\"\",\"title\":{\"standoff\":15},\"zerolinecolor\":\"white\",\"automargin\":true,\"zerolinewidth\":2},\"scene\":{\"xaxis\":{\"backgroundcolor\":\"#E5ECF6\",\"gridcolor\":\"white\",\"linecolor\":\"white\",\"showbackground\":true,\"ticks\":\"\",\"zerolinecolor\":\"white\",\"gridwidth\":2},\"yaxis\":{\"backgroundcolor\":\"#E5ECF6\",\"gridcolor\":\"white\",\"linecolor\":\"white\",\"showbackground\":true,\"ticks\":\"\",\"zerolinecolor\":\"white\",\"gridwidth\":2},\"zaxis\":{\"backgroundcolor\":\"#E5ECF6\",\"gridcolor\":\"white\",\"linecolor\":\"white\",\"showbackground\":true,\"ticks\":\"\",\"zerolinecolor\":\"white\",\"gridwidth\":2}},\"shapedefaults\":{\"line\":{\"color\":\"#2a3f5f\"}},\"annotationdefaults\":{\"arrowcolor\":\"#2a3f5f\",\"arrowhead\":0,\"arrowwidth\":1},\"geo\":{\"bgcolor\":\"white\",\"landcolor\":\"#E5ECF6\",\"subunitcolor\":\"white\",\"showland\":true,\"showlakes\":true,\"lakecolor\":\"white\"},\"title\":{\"x\":0.05},\"mapbox\":{\"style\":\"light\"}}},\"xaxis\":{\"anchor\":\"y\",\"domain\":[0.0,1.0],\"title\":{\"text\":\"Porcentagem\"}},\"yaxis\":{\"anchor\":\"x\",\"domain\":[0.0,1.0],\"title\":{\"text\":\"Curso\"}},\"legend\":{\"title\":{\"text\":\"Target\"},\"tracegroupgap\":0},\"margin\":{\"t\":60},\"barmode\":\"relative\"},                        {\"responsive\": true}                    )                };                            </script>        </div>"
      ],
      "text/plain": [
       "Figure({\n",
       "    'data': [{'alignmentgroup': 'True',\n",
       "              'hovertemplate': 'Target=Desistente<br>Porcentagem=%{x}<br>Curso=%{y}<extra></extra>',\n",
       "              'legendgroup': 'Desistente',\n",
       "              'marker': {'color': 'red', 'pattern': {'shape': ''}},\n",
       "              'name': 'Desistente',\n",
       "              'offsetgroup': 'Desistente',\n",
       "              'orientation': 'h',\n",
       "              'showlegend': True,\n",
       "              'textposition': 'auto',\n",
       "              'type': 'bar',\n",
       "              'x': array([40.95238095, 38.13953488, 22.56637168, 44.27083333, 15.40469974,\n",
       "                          26.70623145, 54.11764706, 35.26315789, 50.74626866, 35.44776119,\n",
       "                          30.51359517, 38.37209302, 18.30985915, 33.02325581, 66.66666667,\n",
       "                          38.0952381 , 55.31914894]),\n",
       "              'xaxis': 'x',\n",
       "              'y': array(['Agronomia', 'Animação e Design Multimídia', 'Design de Comunicação',\n",
       "                          'Educação Básica', 'Enfermagem', 'Enfermagem Veterinária',\n",
       "                          'Engenharia da computação', 'Gestão', 'Gestão (noturno)',\n",
       "                          'Gestão de Publicidade e Marketing', 'Jornalismo e Comunicação',\n",
       "                          'Odontologia', 'Serviço Social', 'Serviço Social (noturno)',\n",
       "                          'Tecnologias de Produção de Biocombustíveis', 'Turismo', 'Zootecnia'],\n",
       "                         dtype=object),\n",
       "              'yaxis': 'y'},\n",
       "             {'alignmentgroup': 'True',\n",
       "              'hovertemplate': 'Target=Graduado<br>Porcentagem=%{x}<br>Curso=%{y}<extra></extra>',\n",
       "              'legendgroup': 'Graduado',\n",
       "              'marker': {'color': 'green', 'pattern': {'shape': ''}},\n",
       "              'name': 'Graduado',\n",
       "              'offsetgroup': 'Graduado',\n",
       "              'orientation': 'h',\n",
       "              'showlegend': True,\n",
       "              'textposition': 'auto',\n",
       "              'type': 'bar',\n",
       "              'x': array([41.42857143, 44.65116279, 58.84955752, 29.6875    , 71.54046997,\n",
       "                          51.03857567,  8.23529412, 36.31578947, 29.10447761, 46.64179104,\n",
       "                          59.21450151, 41.86046512, 69.85915493, 57.20930233,  8.33333333,\n",
       "                          45.63492063, 29.78723404]),\n",
       "              'xaxis': 'x',\n",
       "              'y': array(['Agronomia', 'Animação e Design Multimídia', 'Design de Comunicação',\n",
       "                          'Educação Básica', 'Enfermagem', 'Enfermagem Veterinária',\n",
       "                          'Engenharia da computação', 'Gestão', 'Gestão (noturno)',\n",
       "                          'Gestão de Publicidade e Marketing', 'Jornalismo e Comunicação',\n",
       "                          'Odontologia', 'Serviço Social', 'Serviço Social (noturno)',\n",
       "                          'Tecnologias de Produção de Biocombustíveis', 'Turismo', 'Zootecnia'],\n",
       "                         dtype=object),\n",
       "              'yaxis': 'y'},\n",
       "             {'alignmentgroup': 'True',\n",
       "              'hovertemplate': 'Target=Matriculado<br>Porcentagem=%{x}<br>Curso=%{y}<extra></extra>',\n",
       "              'legendgroup': 'Matriculado',\n",
       "              'marker': {'color': 'blue', 'pattern': {'shape': ''}},\n",
       "              'name': 'Matriculado',\n",
       "              'offsetgroup': 'Matriculado',\n",
       "              'orientation': 'h',\n",
       "              'showlegend': True,\n",
       "              'textposition': 'auto',\n",
       "              'type': 'bar',\n",
       "              'x': array([17.61904762, 17.20930233, 18.5840708 , 26.04166667, 13.05483029,\n",
       "                          22.25519288, 37.64705882, 28.42105263, 20.14925373, 17.91044776,\n",
       "                          10.27190332, 19.76744186, 11.83098592,  9.76744186, 25.        ,\n",
       "                          16.26984127, 14.89361702]),\n",
       "              'xaxis': 'x',\n",
       "              'y': array(['Agronomia', 'Animação e Design Multimídia', 'Design de Comunicação',\n",
       "                          'Educação Básica', 'Enfermagem', 'Enfermagem Veterinária',\n",
       "                          'Engenharia da computação', 'Gestão', 'Gestão (noturno)',\n",
       "                          'Gestão de Publicidade e Marketing', 'Jornalismo e Comunicação',\n",
       "                          'Odontologia', 'Serviço Social', 'Serviço Social (noturno)',\n",
       "                          'Tecnologias de Produção de Biocombustíveis', 'Turismo', 'Zootecnia'],\n",
       "                         dtype=object),\n",
       "              'yaxis': 'y'}],\n",
       "    'layout': {'barmode': 'relative',\n",
       "               'legend': {'title': {'text': 'Target'}, 'tracegroupgap': 0},\n",
       "               'margin': {'t': 60},\n",
       "               'template': '...',\n",
       "               'xaxis': {'anchor': 'y', 'domain': [0.0, 1.0], 'title': {'text': 'Porcentagem'}},\n",
       "               'yaxis': {'anchor': 'x', 'domain': [0.0, 1.0], 'title': {'text': 'Curso'}}}\n",
       "})"
      ]
     },
     "execution_count": 290,
     "metadata": {},
     "output_type": "execute_result"
    }
   ],
   "source": [
    "sns.countplot(x='Devedor', hue='Target', data=dados)\n",
    "plt.show()\n",
    "\n",
    "sns.countplot(x='Taxas de matrícula em dia', hue='Target', data=dados)\n",
    "plt.show()\n",
    "\n",
    "sns.countplot(x='Bolsista', hue='Target', data=dados)\n",
    "plt.show()\n",
    "\n",
    "sns.boxenplot(x='Target', y='disciplinas 1º semestre (notas)', data=dados)\n",
    "plt.show()\n",
    "\n",
    "\n",
    "contagem = dados.groupby(['Curso', 'Target']).size().reset_index(name='Contagem')\n",
    "contagem['Porcentagem'] = contagem.groupby('Curso')['Contagem'].transform(lambda x: (x/x.sum())*100)\n",
    "\n",
    "fig = px.bar(contagem, y='Curso', x='Porcentagem', color='Target', orientation='h',\n",
    "             color_discrete_map=color_dict)\n",
    "fig\n"
   ]
  },
  {
   "cell_type": "markdown",
   "metadata": {},
   "source": [
    "Dados Acadêmicos"
   ]
  },
  {
   "cell_type": "code",
   "execution_count": 291,
   "metadata": {},
   "outputs": [
    {
     "data": {
      "text/plain": [
       "Target\n",
       "Graduado       49.932188\n",
       "Desistente     32.120253\n",
       "Matriculado    17.947559\n",
       "Name: proportion, dtype: float64"
      ]
     },
     "execution_count": 291,
     "metadata": {},
     "output_type": "execute_result"
    }
   ],
   "source": [
    "dados['Target'].value_counts(normalize=True)*100"
   ]
  },
  {
   "cell_type": "code",
   "execution_count": 292,
   "metadata": {},
   "outputs": [
    {
     "data": {
      "text/html": [
       "<div>\n",
       "<style scoped>\n",
       "    .dataframe tbody tr th:only-of-type {\n",
       "        vertical-align: middle;\n",
       "    }\n",
       "\n",
       "    .dataframe tbody tr th {\n",
       "        vertical-align: top;\n",
       "    }\n",
       "\n",
       "    .dataframe thead th {\n",
       "        text-align: right;\n",
       "    }\n",
       "</style>\n",
       "<table border=\"1\" class=\"dataframe\">\n",
       "  <thead>\n",
       "    <tr style=\"text-align: right;\">\n",
       "      <th></th>\n",
       "      <th>Idade na matrícula</th>\n",
       "      <th>Taxa de desemprego</th>\n",
       "      <th>Taxa de inflação</th>\n",
       "      <th>PIB</th>\n",
       "      <th>disciplinas 1º semestre (creditadas)</th>\n",
       "      <th>disciplinas 1º semestre (matriculadas)</th>\n",
       "      <th>disciplinas 1º semestre (avaliações)</th>\n",
       "      <th>disciplinas 1º semestre (aprovadas)</th>\n",
       "      <th>disciplinas 1º semestre (notas)</th>\n",
       "      <th>disciplinas 1º semestre (sem avaliações)</th>\n",
       "      <th>...</th>\n",
       "      <th>Qualificação prévia_Educação básica 3º ciclo (9º/10º/11º ano) ou equivalente</th>\n",
       "      <th>Qualificação prévia_Educação secundária</th>\n",
       "      <th>Qualificação prévia_Educação superior - bacharelado</th>\n",
       "      <th>Qualificação prévia_Educação superior - doutorado</th>\n",
       "      <th>Qualificação prévia_Educação superior - licenciatura</th>\n",
       "      <th>Qualificação prévia_Educação superior - licenciatura (1º ciclo)</th>\n",
       "      <th>Qualificação prévia_Educação superior - mestrado</th>\n",
       "      <th>Qualificação prévia_Educação superior - mestrado (2º ciclo)</th>\n",
       "      <th>Qualificação prévia_Frequência de educação superior</th>\n",
       "      <th>Qualificação prévia_Outro - 11º ano de escolaridade</th>\n",
       "    </tr>\n",
       "  </thead>\n",
       "  <tbody>\n",
       "    <tr>\n",
       "      <th>0</th>\n",
       "      <td>20</td>\n",
       "      <td>10.8</td>\n",
       "      <td>1.4</td>\n",
       "      <td>1.74</td>\n",
       "      <td>0</td>\n",
       "      <td>0</td>\n",
       "      <td>0</td>\n",
       "      <td>0</td>\n",
       "      <td>0.000000</td>\n",
       "      <td>0</td>\n",
       "      <td>...</td>\n",
       "      <td>0.0</td>\n",
       "      <td>1.0</td>\n",
       "      <td>0.0</td>\n",
       "      <td>0.0</td>\n",
       "      <td>0.0</td>\n",
       "      <td>0.0</td>\n",
       "      <td>0.0</td>\n",
       "      <td>0.0</td>\n",
       "      <td>0.0</td>\n",
       "      <td>0.0</td>\n",
       "    </tr>\n",
       "    <tr>\n",
       "      <th>1</th>\n",
       "      <td>19</td>\n",
       "      <td>13.9</td>\n",
       "      <td>-0.3</td>\n",
       "      <td>0.79</td>\n",
       "      <td>0</td>\n",
       "      <td>6</td>\n",
       "      <td>6</td>\n",
       "      <td>6</td>\n",
       "      <td>14.000000</td>\n",
       "      <td>0</td>\n",
       "      <td>...</td>\n",
       "      <td>0.0</td>\n",
       "      <td>1.0</td>\n",
       "      <td>0.0</td>\n",
       "      <td>0.0</td>\n",
       "      <td>0.0</td>\n",
       "      <td>0.0</td>\n",
       "      <td>0.0</td>\n",
       "      <td>0.0</td>\n",
       "      <td>0.0</td>\n",
       "      <td>0.0</td>\n",
       "    </tr>\n",
       "    <tr>\n",
       "      <th>2</th>\n",
       "      <td>19</td>\n",
       "      <td>10.8</td>\n",
       "      <td>1.4</td>\n",
       "      <td>1.74</td>\n",
       "      <td>0</td>\n",
       "      <td>6</td>\n",
       "      <td>0</td>\n",
       "      <td>0</td>\n",
       "      <td>0.000000</td>\n",
       "      <td>0</td>\n",
       "      <td>...</td>\n",
       "      <td>0.0</td>\n",
       "      <td>1.0</td>\n",
       "      <td>0.0</td>\n",
       "      <td>0.0</td>\n",
       "      <td>0.0</td>\n",
       "      <td>0.0</td>\n",
       "      <td>0.0</td>\n",
       "      <td>0.0</td>\n",
       "      <td>0.0</td>\n",
       "      <td>0.0</td>\n",
       "    </tr>\n",
       "    <tr>\n",
       "      <th>3</th>\n",
       "      <td>20</td>\n",
       "      <td>9.4</td>\n",
       "      <td>-0.8</td>\n",
       "      <td>-3.12</td>\n",
       "      <td>0</td>\n",
       "      <td>6</td>\n",
       "      <td>8</td>\n",
       "      <td>6</td>\n",
       "      <td>13.428571</td>\n",
       "      <td>0</td>\n",
       "      <td>...</td>\n",
       "      <td>0.0</td>\n",
       "      <td>1.0</td>\n",
       "      <td>0.0</td>\n",
       "      <td>0.0</td>\n",
       "      <td>0.0</td>\n",
       "      <td>0.0</td>\n",
       "      <td>0.0</td>\n",
       "      <td>0.0</td>\n",
       "      <td>0.0</td>\n",
       "      <td>0.0</td>\n",
       "    </tr>\n",
       "    <tr>\n",
       "      <th>4</th>\n",
       "      <td>45</td>\n",
       "      <td>13.9</td>\n",
       "      <td>-0.3</td>\n",
       "      <td>0.79</td>\n",
       "      <td>0</td>\n",
       "      <td>6</td>\n",
       "      <td>9</td>\n",
       "      <td>5</td>\n",
       "      <td>12.333333</td>\n",
       "      <td>0</td>\n",
       "      <td>...</td>\n",
       "      <td>0.0</td>\n",
       "      <td>1.0</td>\n",
       "      <td>0.0</td>\n",
       "      <td>0.0</td>\n",
       "      <td>0.0</td>\n",
       "      <td>0.0</td>\n",
       "      <td>0.0</td>\n",
       "      <td>0.0</td>\n",
       "      <td>0.0</td>\n",
       "      <td>0.0</td>\n",
       "    </tr>\n",
       "    <tr>\n",
       "      <th>...</th>\n",
       "      <td>...</td>\n",
       "      <td>...</td>\n",
       "      <td>...</td>\n",
       "      <td>...</td>\n",
       "      <td>...</td>\n",
       "      <td>...</td>\n",
       "      <td>...</td>\n",
       "      <td>...</td>\n",
       "      <td>...</td>\n",
       "      <td>...</td>\n",
       "      <td>...</td>\n",
       "      <td>...</td>\n",
       "      <td>...</td>\n",
       "      <td>...</td>\n",
       "      <td>...</td>\n",
       "      <td>...</td>\n",
       "      <td>...</td>\n",
       "      <td>...</td>\n",
       "      <td>...</td>\n",
       "      <td>...</td>\n",
       "      <td>...</td>\n",
       "    </tr>\n",
       "    <tr>\n",
       "      <th>4419</th>\n",
       "      <td>19</td>\n",
       "      <td>15.5</td>\n",
       "      <td>2.8</td>\n",
       "      <td>-4.06</td>\n",
       "      <td>0</td>\n",
       "      <td>6</td>\n",
       "      <td>7</td>\n",
       "      <td>5</td>\n",
       "      <td>13.600000</td>\n",
       "      <td>0</td>\n",
       "      <td>...</td>\n",
       "      <td>0.0</td>\n",
       "      <td>1.0</td>\n",
       "      <td>0.0</td>\n",
       "      <td>0.0</td>\n",
       "      <td>0.0</td>\n",
       "      <td>0.0</td>\n",
       "      <td>0.0</td>\n",
       "      <td>0.0</td>\n",
       "      <td>0.0</td>\n",
       "      <td>0.0</td>\n",
       "    </tr>\n",
       "    <tr>\n",
       "      <th>4420</th>\n",
       "      <td>18</td>\n",
       "      <td>11.1</td>\n",
       "      <td>0.6</td>\n",
       "      <td>2.02</td>\n",
       "      <td>0</td>\n",
       "      <td>6</td>\n",
       "      <td>6</td>\n",
       "      <td>6</td>\n",
       "      <td>12.000000</td>\n",
       "      <td>0</td>\n",
       "      <td>...</td>\n",
       "      <td>0.0</td>\n",
       "      <td>1.0</td>\n",
       "      <td>0.0</td>\n",
       "      <td>0.0</td>\n",
       "      <td>0.0</td>\n",
       "      <td>0.0</td>\n",
       "      <td>0.0</td>\n",
       "      <td>0.0</td>\n",
       "      <td>0.0</td>\n",
       "      <td>0.0</td>\n",
       "    </tr>\n",
       "    <tr>\n",
       "      <th>4421</th>\n",
       "      <td>30</td>\n",
       "      <td>13.9</td>\n",
       "      <td>-0.3</td>\n",
       "      <td>0.79</td>\n",
       "      <td>0</td>\n",
       "      <td>7</td>\n",
       "      <td>8</td>\n",
       "      <td>7</td>\n",
       "      <td>14.912500</td>\n",
       "      <td>0</td>\n",
       "      <td>...</td>\n",
       "      <td>0.0</td>\n",
       "      <td>1.0</td>\n",
       "      <td>0.0</td>\n",
       "      <td>0.0</td>\n",
       "      <td>0.0</td>\n",
       "      <td>0.0</td>\n",
       "      <td>0.0</td>\n",
       "      <td>0.0</td>\n",
       "      <td>0.0</td>\n",
       "      <td>0.0</td>\n",
       "    </tr>\n",
       "    <tr>\n",
       "      <th>4422</th>\n",
       "      <td>20</td>\n",
       "      <td>9.4</td>\n",
       "      <td>-0.8</td>\n",
       "      <td>-3.12</td>\n",
       "      <td>0</td>\n",
       "      <td>5</td>\n",
       "      <td>5</td>\n",
       "      <td>5</td>\n",
       "      <td>13.800000</td>\n",
       "      <td>0</td>\n",
       "      <td>...</td>\n",
       "      <td>0.0</td>\n",
       "      <td>1.0</td>\n",
       "      <td>0.0</td>\n",
       "      <td>0.0</td>\n",
       "      <td>0.0</td>\n",
       "      <td>0.0</td>\n",
       "      <td>0.0</td>\n",
       "      <td>0.0</td>\n",
       "      <td>0.0</td>\n",
       "      <td>0.0</td>\n",
       "    </tr>\n",
       "    <tr>\n",
       "      <th>4423</th>\n",
       "      <td>22</td>\n",
       "      <td>12.7</td>\n",
       "      <td>3.7</td>\n",
       "      <td>-1.70</td>\n",
       "      <td>0</td>\n",
       "      <td>6</td>\n",
       "      <td>8</td>\n",
       "      <td>6</td>\n",
       "      <td>11.666667</td>\n",
       "      <td>0</td>\n",
       "      <td>...</td>\n",
       "      <td>0.0</td>\n",
       "      <td>1.0</td>\n",
       "      <td>0.0</td>\n",
       "      <td>0.0</td>\n",
       "      <td>0.0</td>\n",
       "      <td>0.0</td>\n",
       "      <td>0.0</td>\n",
       "      <td>0.0</td>\n",
       "      <td>0.0</td>\n",
       "      <td>0.0</td>\n",
       "    </tr>\n",
       "  </tbody>\n",
       "</table>\n",
       "<p>4424 rows × 65 columns</p>\n",
       "</div>"
      ],
      "text/plain": [
       "      Idade na matrícula  Taxa de desemprego  Taxa de inflação   PIB  \\\n",
       "0                     20                10.8               1.4  1.74   \n",
       "1                     19                13.9              -0.3  0.79   \n",
       "2                     19                10.8               1.4  1.74   \n",
       "3                     20                 9.4              -0.8 -3.12   \n",
       "4                     45                13.9              -0.3  0.79   \n",
       "...                  ...                 ...               ...   ...   \n",
       "4419                  19                15.5               2.8 -4.06   \n",
       "4420                  18                11.1               0.6  2.02   \n",
       "4421                  30                13.9              -0.3  0.79   \n",
       "4422                  20                 9.4              -0.8 -3.12   \n",
       "4423                  22                12.7               3.7 -1.70   \n",
       "\n",
       "      disciplinas 1º semestre (creditadas)  \\\n",
       "0                                        0   \n",
       "1                                        0   \n",
       "2                                        0   \n",
       "3                                        0   \n",
       "4                                        0   \n",
       "...                                    ...   \n",
       "4419                                     0   \n",
       "4420                                     0   \n",
       "4421                                     0   \n",
       "4422                                     0   \n",
       "4423                                     0   \n",
       "\n",
       "      disciplinas 1º semestre (matriculadas)  \\\n",
       "0                                          0   \n",
       "1                                          6   \n",
       "2                                          6   \n",
       "3                                          6   \n",
       "4                                          6   \n",
       "...                                      ...   \n",
       "4419                                       6   \n",
       "4420                                       6   \n",
       "4421                                       7   \n",
       "4422                                       5   \n",
       "4423                                       6   \n",
       "\n",
       "      disciplinas 1º semestre (avaliações)  \\\n",
       "0                                        0   \n",
       "1                                        6   \n",
       "2                                        0   \n",
       "3                                        8   \n",
       "4                                        9   \n",
       "...                                    ...   \n",
       "4419                                     7   \n",
       "4420                                     6   \n",
       "4421                                     8   \n",
       "4422                                     5   \n",
       "4423                                     8   \n",
       "\n",
       "      disciplinas 1º semestre (aprovadas)  disciplinas 1º semestre (notas)  \\\n",
       "0                                       0                         0.000000   \n",
       "1                                       6                        14.000000   \n",
       "2                                       0                         0.000000   \n",
       "3                                       6                        13.428571   \n",
       "4                                       5                        12.333333   \n",
       "...                                   ...                              ...   \n",
       "4419                                    5                        13.600000   \n",
       "4420                                    6                        12.000000   \n",
       "4421                                    7                        14.912500   \n",
       "4422                                    5                        13.800000   \n",
       "4423                                    6                        11.666667   \n",
       "\n",
       "      disciplinas 1º semestre (sem avaliações)  ...  \\\n",
       "0                                            0  ...   \n",
       "1                                            0  ...   \n",
       "2                                            0  ...   \n",
       "3                                            0  ...   \n",
       "4                                            0  ...   \n",
       "...                                        ...  ...   \n",
       "4419                                         0  ...   \n",
       "4420                                         0  ...   \n",
       "4421                                         0  ...   \n",
       "4422                                         0  ...   \n",
       "4423                                         0  ...   \n",
       "\n",
       "      Qualificação prévia_Educação básica 3º ciclo (9º/10º/11º ano) ou equivalente  \\\n",
       "0                                                   0.0                              \n",
       "1                                                   0.0                              \n",
       "2                                                   0.0                              \n",
       "3                                                   0.0                              \n",
       "4                                                   0.0                              \n",
       "...                                                 ...                              \n",
       "4419                                                0.0                              \n",
       "4420                                                0.0                              \n",
       "4421                                                0.0                              \n",
       "4422                                                0.0                              \n",
       "4423                                                0.0                              \n",
       "\n",
       "      Qualificação prévia_Educação secundária  \\\n",
       "0                                         1.0   \n",
       "1                                         1.0   \n",
       "2                                         1.0   \n",
       "3                                         1.0   \n",
       "4                                         1.0   \n",
       "...                                       ...   \n",
       "4419                                      1.0   \n",
       "4420                                      1.0   \n",
       "4421                                      1.0   \n",
       "4422                                      1.0   \n",
       "4423                                      1.0   \n",
       "\n",
       "      Qualificação prévia_Educação superior - bacharelado  \\\n",
       "0                                                   0.0     \n",
       "1                                                   0.0     \n",
       "2                                                   0.0     \n",
       "3                                                   0.0     \n",
       "4                                                   0.0     \n",
       "...                                                 ...     \n",
       "4419                                                0.0     \n",
       "4420                                                0.0     \n",
       "4421                                                0.0     \n",
       "4422                                                0.0     \n",
       "4423                                                0.0     \n",
       "\n",
       "      Qualificação prévia_Educação superior - doutorado  \\\n",
       "0                                                   0.0   \n",
       "1                                                   0.0   \n",
       "2                                                   0.0   \n",
       "3                                                   0.0   \n",
       "4                                                   0.0   \n",
       "...                                                 ...   \n",
       "4419                                                0.0   \n",
       "4420                                                0.0   \n",
       "4421                                                0.0   \n",
       "4422                                                0.0   \n",
       "4423                                                0.0   \n",
       "\n",
       "      Qualificação prévia_Educação superior - licenciatura  \\\n",
       "0                                                   0.0      \n",
       "1                                                   0.0      \n",
       "2                                                   0.0      \n",
       "3                                                   0.0      \n",
       "4                                                   0.0      \n",
       "...                                                 ...      \n",
       "4419                                                0.0      \n",
       "4420                                                0.0      \n",
       "4421                                                0.0      \n",
       "4422                                                0.0      \n",
       "4423                                                0.0      \n",
       "\n",
       "      Qualificação prévia_Educação superior - licenciatura (1º ciclo)  \\\n",
       "0                                                   0.0                 \n",
       "1                                                   0.0                 \n",
       "2                                                   0.0                 \n",
       "3                                                   0.0                 \n",
       "4                                                   0.0                 \n",
       "...                                                 ...                 \n",
       "4419                                                0.0                 \n",
       "4420                                                0.0                 \n",
       "4421                                                0.0                 \n",
       "4422                                                0.0                 \n",
       "4423                                                0.0                 \n",
       "\n",
       "     Qualificação prévia_Educação superior - mestrado  \\\n",
       "0                                                 0.0   \n",
       "1                                                 0.0   \n",
       "2                                                 0.0   \n",
       "3                                                 0.0   \n",
       "4                                                 0.0   \n",
       "...                                               ...   \n",
       "4419                                              0.0   \n",
       "4420                                              0.0   \n",
       "4421                                              0.0   \n",
       "4422                                              0.0   \n",
       "4423                                              0.0   \n",
       "\n",
       "      Qualificação prévia_Educação superior - mestrado (2º ciclo)  \\\n",
       "0                                                   0.0             \n",
       "1                                                   0.0             \n",
       "2                                                   0.0             \n",
       "3                                                   0.0             \n",
       "4                                                   0.0             \n",
       "...                                                 ...             \n",
       "4419                                                0.0             \n",
       "4420                                                0.0             \n",
       "4421                                                0.0             \n",
       "4422                                                0.0             \n",
       "4423                                                0.0             \n",
       "\n",
       "      Qualificação prévia_Frequência de educação superior  \\\n",
       "0                                                   0.0     \n",
       "1                                                   0.0     \n",
       "2                                                   0.0     \n",
       "3                                                   0.0     \n",
       "4                                                   0.0     \n",
       "...                                                 ...     \n",
       "4419                                                0.0     \n",
       "4420                                                0.0     \n",
       "4421                                                0.0     \n",
       "4422                                                0.0     \n",
       "4423                                                0.0     \n",
       "\n",
       "      Qualificação prévia_Outro - 11º ano de escolaridade  \n",
       "0                                                   0.0    \n",
       "1                                                   0.0    \n",
       "2                                                   0.0    \n",
       "3                                                   0.0    \n",
       "4                                                   0.0    \n",
       "...                                                 ...    \n",
       "4419                                                0.0    \n",
       "4420                                                0.0    \n",
       "4421                                                0.0    \n",
       "4422                                                0.0    \n",
       "4423                                                0.0    \n",
       "\n",
       "[4424 rows x 65 columns]"
      ]
     },
     "execution_count": 292,
     "metadata": {},
     "output_type": "execute_result"
    }
   ],
   "source": [
    "colunas_categoricas = ['Estado civil', 'Migração', 'Sexo', 'Estrangeiro', 'Necessidades educacionais especiais', 'Devedor', \n",
    "                       'Taxas de matrícula em dia', 'Bolsista', 'Curso', 'Período', 'Qualificação prévia']\n",
    "encoder = OneHotEncoder(drop='if_binary')\n",
    "dados_categoricos = dados[colunas_categoricas]\n",
    "dados_encoded = pd.DataFrame(encoder.fit_transform(dados_categoricos).toarray(), \n",
    "                             columns=encoder.get_feature_names_out(colunas_categoricas))\n",
    "\n",
    "dados_final = pd.concat([dados.drop(colunas_categoricas, axis=1), dados_encoded], axis=1)\n",
    "dados_final"
   ]
  },
  {
   "cell_type": "code",
   "execution_count": 293,
   "metadata": {},
   "outputs": [
    {
     "name": "stdout",
     "output_type": "stream",
     "text": [
      "<class 'pandas.core.frame.DataFrame'>\n",
      "RangeIndex: 4424 entries, 0 to 4423\n",
      "Data columns (total 65 columns):\n",
      " #   Column                                                                        Non-Null Count  Dtype  \n",
      "---  ------                                                                        --------------  -----  \n",
      " 0   Idade na matrícula                                                            4424 non-null   int64  \n",
      " 1   Taxa de desemprego                                                            4424 non-null   float64\n",
      " 2   Taxa de inflação                                                              4424 non-null   float64\n",
      " 3   PIB                                                                           4424 non-null   float64\n",
      " 4   disciplinas 1º semestre (creditadas)                                          4424 non-null   int64  \n",
      " 5   disciplinas 1º semestre (matriculadas)                                        4424 non-null   int64  \n",
      " 6   disciplinas 1º semestre (avaliações)                                          4424 non-null   int64  \n",
      " 7   disciplinas 1º semestre (aprovadas)                                           4424 non-null   int64  \n",
      " 8   disciplinas 1º semestre (notas)                                               4424 non-null   float64\n",
      " 9   disciplinas 1º semestre (sem avaliações)                                      4424 non-null   int64  \n",
      " 10  disciplinas 2º semestre (creditadas)                                          4424 non-null   int64  \n",
      " 11  disciplinas 2º semestre (matriculadas)                                        4424 non-null   int64  \n",
      " 12  disciplinas 2º semestre (avaliações)                                          4424 non-null   int64  \n",
      " 13  disciplinas 2º semestre (aprovadas)                                           4424 non-null   int64  \n",
      " 14  disciplinas 2º semestre (notas)                                               4424 non-null   float64\n",
      " 15  disciplinas 2º semestre (sem avaliações)                                      4424 non-null   int64  \n",
      " 16  Target                                                                        4424 non-null   object \n",
      " 17  Estado civil_Casado                                                           4424 non-null   float64\n",
      " 18  Estado civil_Divorciado                                                       4424 non-null   float64\n",
      " 19  Estado civil_Legalmente Separado                                              4424 non-null   float64\n",
      " 20  Estado civil_Solteiro                                                         4424 non-null   float64\n",
      " 21  Estado civil_União Estável                                                    4424 non-null   float64\n",
      " 22  Estado civil_Viúvo                                                            4424 non-null   float64\n",
      " 23  Migração_Sim                                                                  4424 non-null   float64\n",
      " 24  Sexo_Masculino                                                                4424 non-null   float64\n",
      " 25  Estrangeiro_Sim                                                               4424 non-null   float64\n",
      " 26  Necessidades educacionais especiais_Sim                                       4424 non-null   float64\n",
      " 27  Devedor_Sim                                                                   4424 non-null   float64\n",
      " 28  Taxas de matrícula em dia_Sim                                                 4424 non-null   float64\n",
      " 29  Bolsista_Sim                                                                  4424 non-null   float64\n",
      " 30  Curso_Agronomia                                                               4424 non-null   float64\n",
      " 31  Curso_Animação e Design Multimídia                                            4424 non-null   float64\n",
      " 32  Curso_Design de Comunicação                                                   4424 non-null   float64\n",
      " 33  Curso_Educação Básica                                                         4424 non-null   float64\n",
      " 34  Curso_Enfermagem                                                              4424 non-null   float64\n",
      " 35  Curso_Enfermagem Veterinária                                                  4424 non-null   float64\n",
      " 36  Curso_Engenharia da computação                                                4424 non-null   float64\n",
      " 37  Curso_Gestão                                                                  4424 non-null   float64\n",
      " 38  Curso_Gestão (noturno)                                                        4424 non-null   float64\n",
      " 39  Curso_Gestão de Publicidade e Marketing                                       4424 non-null   float64\n",
      " 40  Curso_Jornalismo e Comunicação                                                4424 non-null   float64\n",
      " 41  Curso_Odontologia                                                             4424 non-null   float64\n",
      " 42  Curso_Serviço Social                                                          4424 non-null   float64\n",
      " 43  Curso_Serviço Social (noturno)                                                4424 non-null   float64\n",
      " 44  Curso_Tecnologias de Produção de Biocombustíveis                              4424 non-null   float64\n",
      " 45  Curso_Turismo                                                                 4424 non-null   float64\n",
      " 46  Curso_Zootecnia                                                               4424 non-null   float64\n",
      " 47  Período_Noturno                                                               4424 non-null   float64\n",
      " 48  Qualificação prévia_10º ano de escolaridade                                   4424 non-null   float64\n",
      " 49  Qualificação prévia_10º ano de escolaridade - não concluído                   4424 non-null   float64\n",
      " 50  Qualificação prévia_11º ano de escolaridade - não concluído                   4424 non-null   float64\n",
      " 51  Qualificação prévia_12º ano de escolaridade - não concluído                   4424 non-null   float64\n",
      " 52  Qualificação prévia_Curso de especialização tecnológica                       4424 non-null   float64\n",
      " 53  Qualificação prévia_Curso técnico superior profissional                       4424 non-null   float64\n",
      " 54  Qualificação prévia_Educação básica 2º ciclo (6º/7º/8º ano) ou equivalente    4424 non-null   float64\n",
      " 55  Qualificação prévia_Educação básica 3º ciclo (9º/10º/11º ano) ou equivalente  4424 non-null   float64\n",
      " 56  Qualificação prévia_Educação secundária                                       4424 non-null   float64\n",
      " 57  Qualificação prévia_Educação superior - bacharelado                           4424 non-null   float64\n",
      " 58  Qualificação prévia_Educação superior - doutorado                             4424 non-null   float64\n",
      " 59  Qualificação prévia_Educação superior - licenciatura                          4424 non-null   float64\n",
      " 60  Qualificação prévia_Educação superior - licenciatura (1º ciclo)               4424 non-null   float64\n",
      " 61  Qualificação prévia_Educação superior - mestrado                              4424 non-null   float64\n",
      " 62  Qualificação prévia_Educação superior - mestrado (2º ciclo)                   4424 non-null   float64\n",
      " 63  Qualificação prévia_Frequência de educação superior                           4424 non-null   float64\n",
      " 64  Qualificação prévia_Outro - 11º ano de escolaridade                           4424 non-null   float64\n",
      "dtypes: float64(53), int64(11), object(1)\n",
      "memory usage: 2.2+ MB\n"
     ]
    }
   ],
   "source": [
    "dados_final.info()"
   ]
  },
  {
   "cell_type": "code",
   "execution_count": 294,
   "metadata": {},
   "outputs": [],
   "source": [
    "x = dados_final.drop(['Target'], axis=1)\n",
    "y = dados_final['Target']"
   ]
  },
  {
   "cell_type": "markdown",
   "metadata": {},
   "source": [
    "Separando os dados em datasets de treino, validação e teste."
   ]
  },
  {
   "cell_type": "code",
   "execution_count": 295,
   "metadata": {},
   "outputs": [],
   "source": [
    "x, x_test, y, y_test = train_test_split(x, y, test_size=0.15, stratify=y, random_state=0)\n",
    "x_treino, x_val, y_treino, y_val  = train_test_split(x, y, stratify=y, random_state=0)"
   ]
  },
  {
   "cell_type": "code",
   "execution_count": 296,
   "metadata": {},
   "outputs": [
    {
     "name": "stdout",
     "output_type": "stream",
     "text": [
      "Acurácia de Treino:0.7510638297872341\n",
      "Acurácia de Validação:0.7393617021276596\n",
      "Previsão Validação:  ['Graduado' 'Graduado' 'Graduado' 'Desistente' 'Graduado' 'Desistente'\n",
      " 'Graduado' 'Graduado' 'Graduado' 'Graduado' 'Graduado' 'Graduado'\n",
      " 'Desistente' 'Graduado' 'Desistente' 'Desistente' 'Graduado' 'Graduado'\n",
      " 'Desistente' 'Graduado' 'Desistente' 'Graduado' 'Desistente' 'Desistente'\n",
      " 'Graduado' 'Graduado' 'Graduado' 'Graduado' 'Graduado' 'Desistente'\n",
      " 'Graduado' 'Graduado' 'Graduado' 'Desistente' 'Desistente' 'Desistente'\n",
      " 'Graduado' 'Graduado' 'Graduado' 'Graduado' 'Graduado' 'Graduado'\n",
      " 'Graduado' 'Graduado' 'Graduado' 'Desistente' 'Desistente' 'Desistente'\n",
      " 'Graduado' 'Graduado' 'Graduado' 'Graduado' 'Desistente' 'Desistente'\n",
      " 'Graduado' 'Desistente' 'Desistente' 'Graduado' 'Graduado' 'Graduado'\n",
      " 'Desistente' 'Graduado' 'Desistente' 'Graduado' 'Graduado' 'Graduado'\n",
      " 'Graduado' 'Desistente' 'Graduado' 'Graduado' 'Desistente' 'Graduado'\n",
      " 'Graduado' 'Graduado' 'Desistente' 'Graduado' 'Graduado' 'Desistente'\n",
      " 'Desistente' 'Graduado' 'Graduado' 'Graduado' 'Graduado' 'Graduado'\n",
      " 'Graduado' 'Desistente' 'Desistente' 'Matriculado' 'Graduado' 'Graduado'\n",
      " 'Graduado' 'Desistente' 'Desistente' 'Graduado' 'Graduado' 'Graduado'\n",
      " 'Graduado' 'Graduado' 'Graduado' 'Graduado' 'Desistente' 'Graduado'\n",
      " 'Graduado' 'Desistente' 'Graduado' 'Graduado' 'Graduado' 'Graduado'\n",
      " 'Graduado' 'Graduado' 'Desistente' 'Desistente' 'Desistente' 'Graduado'\n",
      " 'Graduado' 'Graduado' 'Graduado' 'Desistente' 'Desistente' 'Graduado'\n",
      " 'Desistente' 'Desistente' 'Desistente' 'Graduado' 'Graduado' 'Graduado'\n",
      " 'Desistente' 'Desistente' 'Graduado' 'Graduado' 'Graduado' 'Graduado'\n",
      " 'Graduado' 'Graduado' 'Graduado' 'Graduado' 'Desistente' 'Graduado'\n",
      " 'Graduado' 'Graduado' 'Graduado' 'Desistente' 'Desistente' 'Graduado'\n",
      " 'Graduado' 'Graduado' 'Graduado' 'Desistente' 'Desistente' 'Graduado'\n",
      " 'Graduado' 'Graduado' 'Graduado' 'Graduado' 'Desistente' 'Graduado'\n",
      " 'Graduado' 'Graduado' 'Desistente' 'Graduado' 'Desistente' 'Graduado'\n",
      " 'Graduado' 'Graduado' 'Desistente' 'Graduado' 'Graduado' 'Graduado'\n",
      " 'Desistente' 'Graduado' 'Desistente' 'Graduado' 'Graduado' 'Desistente'\n",
      " 'Graduado' 'Graduado' 'Graduado' 'Graduado' 'Graduado' 'Graduado'\n",
      " 'Graduado' 'Desistente' 'Desistente' 'Graduado' 'Graduado' 'Graduado'\n",
      " 'Desistente' 'Graduado' 'Graduado' 'Graduado' 'Graduado' 'Graduado'\n",
      " 'Graduado' 'Desistente' 'Graduado' 'Desistente' 'Matriculado' 'Graduado'\n",
      " 'Graduado' 'Desistente' 'Graduado' 'Graduado' 'Desistente' 'Desistente'\n",
      " 'Graduado' 'Graduado' 'Graduado' 'Desistente' 'Desistente' 'Desistente'\n",
      " 'Desistente' 'Graduado' 'Desistente' 'Graduado' 'Desistente' 'Desistente'\n",
      " 'Desistente' 'Graduado' 'Desistente' 'Graduado' 'Graduado' 'Desistente'\n",
      " 'Graduado' 'Desistente' 'Graduado' 'Graduado' 'Graduado' 'Graduado'\n",
      " 'Desistente' 'Graduado' 'Graduado' 'Graduado' 'Desistente' 'Desistente'\n",
      " 'Graduado' 'Graduado' 'Desistente' 'Graduado' 'Graduado' 'Graduado'\n",
      " 'Graduado' 'Desistente' 'Graduado' 'Desistente' 'Graduado' 'Desistente'\n",
      " 'Desistente' 'Desistente' 'Graduado' 'Graduado' 'Desistente' 'Graduado'\n",
      " 'Desistente' 'Desistente' 'Graduado' 'Desistente' 'Desistente'\n",
      " 'Desistente' 'Graduado' 'Desistente' 'Graduado' 'Desistente' 'Graduado'\n",
      " 'Graduado' 'Graduado' 'Desistente' 'Desistente' 'Graduado' 'Graduado'\n",
      " 'Graduado' 'Graduado' 'Desistente' 'Desistente' 'Graduado' 'Desistente'\n",
      " 'Graduado' 'Desistente' 'Desistente' 'Graduado' 'Graduado' 'Graduado'\n",
      " 'Graduado' 'Graduado' 'Desistente' 'Desistente' 'Graduado' 'Graduado'\n",
      " 'Graduado' 'Desistente' 'Graduado' 'Graduado' 'Graduado' 'Desistente'\n",
      " 'Graduado' 'Graduado' 'Graduado' 'Graduado' 'Graduado' 'Desistente'\n",
      " 'Graduado' 'Desistente' 'Graduado' 'Graduado' 'Graduado' 'Graduado'\n",
      " 'Graduado' 'Graduado' 'Desistente' 'Desistente' 'Graduado' 'Graduado'\n",
      " 'Desistente' 'Graduado' 'Graduado' 'Graduado' 'Graduado' 'Desistente'\n",
      " 'Graduado' 'Graduado' 'Graduado' 'Desistente' 'Graduado' 'Desistente'\n",
      " 'Desistente' 'Graduado' 'Desistente' 'Graduado' 'Graduado' 'Graduado'\n",
      " 'Desistente' 'Graduado' 'Graduado' 'Graduado' 'Desistente' 'Desistente'\n",
      " 'Desistente' 'Graduado' 'Graduado' 'Graduado' 'Desistente' 'Graduado'\n",
      " 'Graduado' 'Graduado' 'Graduado' 'Graduado' 'Desistente' 'Desistente'\n",
      " 'Graduado' 'Desistente' 'Desistente' 'Graduado' 'Graduado' 'Desistente'\n",
      " 'Graduado' 'Graduado' 'Graduado' 'Graduado' 'Graduado' 'Graduado'\n",
      " 'Desistente' 'Graduado' 'Graduado' 'Graduado' 'Graduado' 'Graduado'\n",
      " 'Desistente' 'Graduado' 'Desistente' 'Graduado' 'Graduado' 'Desistente'\n",
      " 'Desistente' 'Desistente' 'Graduado' 'Graduado' 'Desistente' 'Desistente'\n",
      " 'Graduado' 'Desistente' 'Graduado' 'Graduado' 'Desistente' 'Graduado'\n",
      " 'Graduado' 'Graduado' 'Graduado' 'Desistente' 'Desistente' 'Graduado'\n",
      " 'Desistente' 'Desistente' 'Graduado' 'Desistente' 'Desistente' 'Graduado'\n",
      " 'Graduado' 'Desistente' 'Desistente' 'Graduado' 'Desistente' 'Desistente'\n",
      " 'Graduado' 'Graduado' 'Graduado' 'Graduado' 'Desistente' 'Graduado'\n",
      " 'Graduado' 'Graduado' 'Desistente' 'Graduado' 'Desistente' 'Graduado'\n",
      " 'Graduado' 'Graduado' 'Graduado' 'Desistente' 'Graduado' 'Graduado'\n",
      " 'Graduado' 'Desistente' 'Graduado' 'Graduado' 'Graduado' 'Desistente'\n",
      " 'Graduado' 'Graduado' 'Graduado' 'Desistente' 'Graduado' 'Graduado'\n",
      " 'Desistente' 'Graduado' 'Graduado' 'Desistente' 'Desistente' 'Desistente'\n",
      " 'Graduado' 'Graduado' 'Graduado' 'Graduado' 'Graduado' 'Graduado'\n",
      " 'Graduado' 'Graduado' 'Desistente' 'Graduado' 'Graduado' 'Graduado'\n",
      " 'Graduado' 'Desistente' 'Graduado' 'Graduado' 'Graduado' 'Graduado'\n",
      " 'Desistente' 'Graduado' 'Graduado' 'Graduado' 'Desistente' 'Graduado'\n",
      " 'Graduado' 'Desistente' 'Graduado' 'Graduado' 'Graduado' 'Graduado'\n",
      " 'Graduado' 'Desistente' 'Desistente' 'Desistente' 'Desistente' 'Graduado'\n",
      " 'Graduado' 'Desistente' 'Graduado' 'Graduado' 'Graduado' 'Desistente'\n",
      " 'Desistente' 'Desistente' 'Graduado' 'Desistente' 'Graduado' 'Desistente'\n",
      " 'Graduado' 'Graduado' 'Desistente' 'Graduado' 'Graduado' 'Desistente'\n",
      " 'Graduado' 'Desistente' 'Graduado' 'Graduado' 'Graduado' 'Desistente'\n",
      " 'Desistente' 'Desistente' 'Desistente' 'Graduado' 'Graduado' 'Graduado'\n",
      " 'Desistente' 'Desistente' 'Graduado' 'Graduado' 'Graduado' 'Graduado'\n",
      " 'Graduado' 'Graduado' 'Graduado' 'Graduado' 'Graduado' 'Desistente'\n",
      " 'Graduado' 'Graduado' 'Desistente' 'Graduado' 'Graduado' 'Desistente'\n",
      " 'Desistente' 'Desistente' 'Desistente' 'Graduado' 'Graduado' 'Graduado'\n",
      " 'Graduado' 'Graduado' 'Graduado' 'Graduado' 'Graduado' 'Graduado'\n",
      " 'Graduado' 'Graduado' 'Graduado' 'Graduado' 'Desistente' 'Graduado'\n",
      " 'Desistente' 'Graduado' 'Graduado' 'Desistente' 'Desistente' 'Graduado'\n",
      " 'Graduado' 'Graduado' 'Graduado' 'Graduado' 'Graduado' 'Desistente'\n",
      " 'Desistente' 'Desistente' 'Desistente' 'Desistente' 'Graduado' 'Graduado'\n",
      " 'Desistente' 'Desistente' 'Desistente' 'Graduado' 'Desistente' 'Graduado'\n",
      " 'Desistente' 'Desistente' 'Matriculado' 'Desistente' 'Graduado'\n",
      " 'Graduado' 'Desistente' 'Graduado' 'Graduado' 'Graduado' 'Graduado'\n",
      " 'Graduado' 'Graduado' 'Graduado' 'Desistente' 'Desistente' 'Graduado'\n",
      " 'Graduado' 'Graduado' 'Graduado' 'Desistente' 'Graduado' 'Graduado'\n",
      " 'Graduado' 'Graduado' 'Graduado' 'Graduado' 'Graduado' 'Graduado'\n",
      " 'Graduado' 'Desistente' 'Graduado' 'Graduado' 'Graduado' 'Desistente'\n",
      " 'Graduado' 'Graduado' 'Graduado' 'Desistente' 'Desistente' 'Desistente'\n",
      " 'Graduado' 'Graduado' 'Graduado' 'Desistente' 'Graduado' 'Graduado'\n",
      " 'Graduado' 'Graduado' 'Desistente' 'Graduado' 'Graduado' 'Matriculado'\n",
      " 'Graduado' 'Desistente' 'Graduado' 'Desistente' 'Graduado' 'Graduado'\n",
      " 'Graduado' 'Graduado' 'Desistente' 'Graduado' 'Graduado' 'Graduado'\n",
      " 'Graduado' 'Graduado' 'Graduado' 'Graduado' 'Graduado' 'Graduado'\n",
      " 'Desistente' 'Graduado' 'Graduado' 'Graduado' 'Desistente' 'Graduado'\n",
      " 'Desistente' 'Desistente' 'Desistente' 'Graduado' 'Desistente'\n",
      " 'Desistente' 'Desistente' 'Graduado' 'Graduado' 'Desistente' 'Desistente'\n",
      " 'Graduado' 'Graduado' 'Graduado' 'Graduado' 'Graduado' 'Desistente'\n",
      " 'Desistente' 'Graduado' 'Graduado' 'Graduado' 'Graduado' 'Desistente'\n",
      " 'Graduado' 'Desistente' 'Graduado' 'Desistente' 'Graduado' 'Desistente'\n",
      " 'Graduado' 'Desistente' 'Desistente' 'Graduado' 'Graduado' 'Graduado'\n",
      " 'Desistente' 'Desistente' 'Desistente' 'Desistente' 'Desistente'\n",
      " 'Graduado' 'Graduado' 'Desistente' 'Desistente' 'Desistente'\n",
      " 'Matriculado' 'Graduado' 'Graduado' 'Desistente' 'Graduado' 'Desistente'\n",
      " 'Graduado' 'Desistente' 'Desistente' 'Graduado' 'Graduado' 'Graduado'\n",
      " 'Graduado' 'Desistente' 'Graduado' 'Graduado' 'Graduado' 'Graduado'\n",
      " 'Desistente' 'Graduado' 'Matriculado' 'Graduado' 'Graduado' 'Graduado'\n",
      " 'Desistente' 'Desistente' 'Graduado' 'Graduado' 'Desistente' 'Graduado'\n",
      " 'Graduado' 'Desistente' 'Desistente' 'Desistente' 'Graduado' 'Graduado'\n",
      " 'Graduado' 'Graduado' 'Graduado' 'Graduado' 'Desistente' 'Desistente'\n",
      " 'Graduado' 'Graduado' 'Graduado' 'Desistente' 'Graduado' 'Graduado'\n",
      " 'Graduado' 'Graduado' 'Desistente' 'Graduado' 'Graduado' 'Graduado'\n",
      " 'Graduado' 'Graduado' 'Graduado' 'Graduado' 'Graduado' 'Graduado'\n",
      " 'Desistente' 'Graduado' 'Graduado' 'Graduado' 'Graduado' 'Desistente'\n",
      " 'Desistente' 'Desistente' 'Desistente' 'Graduado' 'Desistente' 'Graduado'\n",
      " 'Graduado' 'Graduado' 'Graduado' 'Desistente' 'Graduado' 'Graduado'\n",
      " 'Graduado' 'Graduado' 'Graduado' 'Graduado' 'Desistente' 'Desistente'\n",
      " 'Matriculado' 'Desistente' 'Graduado' 'Graduado' 'Graduado' 'Graduado'\n",
      " 'Desistente' 'Desistente' 'Desistente' 'Desistente' 'Desistente'\n",
      " 'Desistente' 'Graduado' 'Desistente' 'Graduado' 'Matriculado'\n",
      " 'Desistente' 'Graduado' 'Graduado' 'Graduado' 'Graduado' 'Desistente'\n",
      " 'Graduado' 'Graduado' 'Graduado' 'Graduado' 'Graduado' 'Desistente'\n",
      " 'Graduado' 'Graduado' 'Desistente' 'Graduado' 'Desistente' 'Graduado'\n",
      " 'Graduado' 'Desistente' 'Desistente' 'Graduado' 'Desistente' 'Graduado'\n",
      " 'Graduado' 'Desistente' 'Graduado' 'Graduado' 'Graduado' 'Matriculado'\n",
      " 'Graduado' 'Desistente' 'Graduado' 'Graduado' 'Desistente' 'Graduado'\n",
      " 'Graduado' 'Desistente' 'Graduado' 'Desistente' 'Desistente' 'Graduado'\n",
      " 'Desistente' 'Graduado' 'Desistente' 'Graduado' 'Graduado' 'Desistente'\n",
      " 'Graduado' 'Graduado' 'Graduado' 'Graduado' 'Graduado' 'Desistente'\n",
      " 'Graduado' 'Graduado' 'Graduado' 'Graduado' 'Graduado' 'Graduado'\n",
      " 'Graduado' 'Graduado' 'Graduado' 'Desistente' 'Graduado' 'Graduado'\n",
      " 'Desistente' 'Graduado' 'Graduado' 'Graduado' 'Desistente' 'Graduado'\n",
      " 'Desistente' 'Graduado' 'Graduado' 'Graduado' 'Graduado' 'Desistente'\n",
      " 'Graduado' 'Desistente' 'Graduado' 'Graduado' 'Desistente' 'Graduado'\n",
      " 'Graduado' 'Graduado' 'Graduado' 'Desistente' 'Desistente' 'Graduado'\n",
      " 'Graduado' 'Graduado' 'Desistente' 'Desistente' 'Desistente' 'Desistente'\n",
      " 'Graduado' 'Graduado' 'Graduado' 'Graduado' 'Graduado' 'Desistente'\n",
      " 'Matriculado' 'Graduado' 'Graduado' 'Graduado' 'Graduado' 'Desistente'\n",
      " 'Desistente' 'Graduado' 'Graduado' 'Desistente' 'Graduado' 'Graduado'\n",
      " 'Graduado' 'Graduado' 'Desistente' 'Graduado' 'Desistente' 'Graduado'\n",
      " 'Graduado' 'Graduado' 'Desistente' 'Graduado' 'Graduado' 'Graduado'\n",
      " 'Desistente' 'Desistente' 'Graduado' 'Graduado' 'Graduado' 'Graduado'\n",
      " 'Graduado' 'Graduado' 'Graduado' 'Desistente' 'Graduado' 'Graduado'\n",
      " 'Desistente' 'Graduado' 'Desistente' 'Graduado' 'Desistente' 'Graduado'\n",
      " 'Graduado' 'Graduado' 'Desistente' 'Graduado' 'Graduado' 'Graduado'\n",
      " 'Graduado' 'Desistente' 'Graduado' 'Desistente' 'Graduado']\n"
     ]
    }
   ],
   "source": [
    "rfmodel = RandomForestClassifier(random_state=0, max_depth=5)\n",
    "rfmodel.fit(x_treino, y_treino)\n",
    "y_predval = rfmodel.predict(x_val) #Validação\n",
    "print(f'Acurácia de Treino:{rfmodel.score(x_treino, y_treino)}')\n",
    "print(f'Acurácia de Validação:{rfmodel.score(x_val, y_val)}')\n",
    "print('Previsão Validação: ', y_predval)"
   ]
  },
  {
   "cell_type": "code",
   "execution_count": 297,
   "metadata": {},
   "outputs": [
    {
     "name": "stdout",
     "output_type": "stream",
     "text": [
      "Previsão Teste:  ['Graduado' 'Desistente' 'Graduado' 'Desistente' 'Desistente' 'Desistente'\n",
      " 'Desistente' 'Desistente' 'Graduado' 'Graduado' 'Graduado' 'Graduado'\n",
      " 'Graduado' 'Graduado' 'Graduado' 'Desistente' 'Desistente' 'Graduado'\n",
      " 'Desistente' 'Matriculado' 'Graduado' 'Desistente' 'Graduado'\n",
      " 'Desistente' 'Graduado' 'Desistente' 'Graduado' 'Graduado' 'Desistente'\n",
      " 'Graduado' 'Desistente' 'Graduado' 'Graduado' 'Graduado' 'Graduado'\n",
      " 'Desistente' 'Graduado' 'Graduado' 'Graduado' 'Desistente' 'Graduado'\n",
      " 'Graduado' 'Desistente' 'Desistente' 'Desistente' 'Desistente' 'Graduado'\n",
      " 'Graduado' 'Graduado' 'Graduado' 'Desistente' 'Graduado' 'Graduado'\n",
      " 'Graduado' 'Graduado' 'Graduado' 'Desistente' 'Desistente' 'Graduado'\n",
      " 'Desistente' 'Desistente' 'Desistente' 'Desistente' 'Graduado' 'Graduado'\n",
      " 'Graduado' 'Graduado' 'Graduado' 'Graduado' 'Graduado' 'Graduado'\n",
      " 'Desistente' 'Graduado' 'Graduado' 'Desistente' 'Desistente' 'Desistente'\n",
      " 'Graduado' 'Graduado' 'Graduado' 'Graduado' 'Desistente' 'Graduado'\n",
      " 'Desistente' 'Graduado' 'Desistente' 'Desistente' 'Graduado' 'Graduado'\n",
      " 'Graduado' 'Graduado' 'Graduado' 'Graduado' 'Graduado' 'Desistente'\n",
      " 'Desistente' 'Desistente' 'Graduado' 'Graduado' 'Desistente' 'Desistente'\n",
      " 'Graduado' 'Graduado' 'Graduado' 'Desistente' 'Graduado' 'Graduado'\n",
      " 'Graduado' 'Graduado' 'Graduado' 'Desistente' 'Desistente' 'Desistente'\n",
      " 'Graduado' 'Desistente' 'Graduado' 'Desistente' 'Desistente' 'Graduado'\n",
      " 'Desistente' 'Desistente' 'Graduado' 'Graduado' 'Graduado' 'Desistente'\n",
      " 'Graduado' 'Desistente' 'Graduado' 'Graduado' 'Graduado' 'Desistente'\n",
      " 'Desistente' 'Graduado' 'Graduado' 'Graduado' 'Graduado' 'Graduado'\n",
      " 'Graduado' 'Desistente' 'Graduado' 'Desistente' 'Graduado' 'Graduado'\n",
      " 'Graduado' 'Graduado' 'Desistente' 'Graduado' 'Desistente' 'Graduado'\n",
      " 'Graduado' 'Graduado' 'Desistente' 'Desistente' 'Graduado' 'Desistente'\n",
      " 'Graduado' 'Desistente' 'Desistente' 'Graduado' 'Desistente' 'Desistente'\n",
      " 'Graduado' 'Graduado' 'Desistente' 'Graduado' 'Desistente' 'Desistente'\n",
      " 'Desistente' 'Matriculado' 'Graduado' 'Graduado' 'Graduado' 'Graduado'\n",
      " 'Desistente' 'Graduado' 'Graduado' 'Desistente' 'Graduado' 'Graduado'\n",
      " 'Graduado' 'Graduado' 'Desistente' 'Graduado' 'Graduado' 'Graduado'\n",
      " 'Desistente' 'Graduado' 'Graduado' 'Graduado' 'Graduado' 'Desistente'\n",
      " 'Desistente' 'Desistente' 'Graduado' 'Graduado' 'Desistente' 'Graduado'\n",
      " 'Desistente' 'Desistente' 'Desistente' 'Desistente' 'Graduado' 'Graduado'\n",
      " 'Desistente' 'Graduado' 'Graduado' 'Desistente' 'Desistente' 'Desistente'\n",
      " 'Desistente' 'Graduado' 'Graduado' 'Graduado' 'Desistente' 'Desistente'\n",
      " 'Graduado' 'Graduado' 'Graduado' 'Graduado' 'Graduado' 'Graduado'\n",
      " 'Graduado' 'Graduado' 'Graduado' 'Desistente' 'Graduado' 'Desistente'\n",
      " 'Graduado' 'Desistente' 'Graduado' 'Graduado' 'Graduado' 'Graduado'\n",
      " 'Graduado' 'Graduado' 'Desistente' 'Desistente' 'Desistente' 'Desistente'\n",
      " 'Graduado' 'Desistente' 'Desistente' 'Graduado' 'Graduado' 'Graduado'\n",
      " 'Graduado' 'Graduado' 'Graduado' 'Graduado' 'Graduado' 'Desistente'\n",
      " 'Desistente' 'Desistente' 'Desistente' 'Graduado' 'Graduado' 'Desistente'\n",
      " 'Graduado' 'Graduado' 'Graduado' 'Desistente' 'Graduado' 'Graduado'\n",
      " 'Graduado' 'Graduado' 'Graduado' 'Desistente' 'Desistente' 'Desistente'\n",
      " 'Graduado' 'Desistente' 'Graduado' 'Graduado' 'Graduado' 'Graduado'\n",
      " 'Graduado' 'Desistente' 'Desistente' 'Graduado' 'Graduado' 'Graduado'\n",
      " 'Desistente' 'Graduado' 'Desistente' 'Graduado' 'Graduado' 'Desistente'\n",
      " 'Graduado' 'Desistente' 'Desistente' 'Desistente' 'Graduado' 'Graduado'\n",
      " 'Graduado' 'Desistente' 'Graduado' 'Graduado' 'Graduado' 'Graduado'\n",
      " 'Graduado' 'Graduado' 'Graduado' 'Graduado' 'Graduado' 'Graduado'\n",
      " 'Graduado' 'Graduado' 'Desistente' 'Graduado' 'Graduado' 'Desistente'\n",
      " 'Graduado' 'Matriculado' 'Graduado' 'Desistente' 'Graduado' 'Graduado'\n",
      " 'Desistente' 'Graduado' 'Graduado' 'Graduado' 'Graduado' 'Desistente'\n",
      " 'Desistente' 'Desistente' 'Desistente' 'Graduado' 'Graduado' 'Graduado'\n",
      " 'Desistente' 'Desistente' 'Graduado' 'Graduado' 'Graduado' 'Graduado'\n",
      " 'Desistente' 'Desistente' 'Graduado' 'Desistente' 'Graduado' 'Graduado'\n",
      " 'Desistente' 'Graduado' 'Graduado' 'Graduado' 'Desistente' 'Graduado'\n",
      " 'Desistente' 'Matriculado' 'Graduado' 'Desistente' 'Desistente'\n",
      " 'Graduado' 'Graduado' 'Graduado' 'Desistente' 'Desistente' 'Graduado'\n",
      " 'Graduado' 'Graduado' 'Graduado' 'Graduado' 'Graduado' 'Desistente'\n",
      " 'Graduado' 'Graduado' 'Desistente' 'Graduado' 'Desistente' 'Desistente'\n",
      " 'Graduado' 'Graduado' 'Desistente' 'Desistente' 'Graduado' 'Graduado'\n",
      " 'Graduado' 'Desistente' 'Graduado' 'Desistente' 'Graduado' 'Desistente'\n",
      " 'Graduado' 'Desistente' 'Graduado' 'Desistente' 'Desistente' 'Desistente'\n",
      " 'Graduado' 'Desistente' 'Graduado' 'Graduado' 'Desistente' 'Desistente'\n",
      " 'Graduado' 'Graduado' 'Graduado' 'Desistente' 'Graduado' 'Graduado'\n",
      " 'Graduado' 'Graduado' 'Graduado' 'Graduado' 'Desistente' 'Desistente'\n",
      " 'Desistente' 'Graduado' 'Graduado' 'Graduado' 'Graduado' 'Graduado'\n",
      " 'Desistente' 'Desistente' 'Graduado' 'Graduado' 'Graduado' 'Graduado'\n",
      " 'Graduado' 'Graduado' 'Graduado' 'Graduado' 'Graduado' 'Graduado'\n",
      " 'Graduado' 'Desistente' 'Graduado' 'Graduado' 'Desistente' 'Graduado'\n",
      " 'Graduado' 'Graduado' 'Graduado' 'Desistente' 'Graduado' 'Graduado'\n",
      " 'Graduado' 'Graduado' 'Graduado' 'Graduado' 'Graduado' 'Graduado'\n",
      " 'Graduado' 'Desistente' 'Desistente' 'Desistente' 'Desistente' 'Graduado'\n",
      " 'Graduado' 'Desistente' 'Graduado' 'Desistente' 'Desistente' 'Desistente'\n",
      " 'Graduado' 'Desistente' 'Graduado' 'Desistente' 'Graduado' 'Graduado'\n",
      " 'Graduado' 'Desistente' 'Graduado' 'Graduado' 'Desistente' 'Desistente'\n",
      " 'Graduado' 'Graduado' 'Graduado' 'Graduado' 'Graduado' 'Matriculado'\n",
      " 'Graduado' 'Graduado' 'Graduado' 'Graduado' 'Desistente' 'Graduado'\n",
      " 'Graduado' 'Graduado' 'Graduado' 'Graduado' 'Graduado' 'Graduado'\n",
      " 'Graduado' 'Graduado' 'Desistente' 'Graduado' 'Desistente' 'Desistente'\n",
      " 'Desistente' 'Graduado' 'Desistente' 'Graduado' 'Graduado' 'Graduado'\n",
      " 'Desistente' 'Graduado' 'Desistente' 'Desistente' 'Graduado' 'Graduado'\n",
      " 'Graduado' 'Graduado' 'Graduado' 'Graduado' 'Graduado' 'Graduado'\n",
      " 'Graduado' 'Graduado' 'Graduado' 'Desistente' 'Graduado' 'Desistente'\n",
      " 'Desistente' 'Desistente' 'Desistente' 'Graduado' 'Desistente' 'Graduado'\n",
      " 'Graduado' 'Desistente' 'Graduado' 'Desistente' 'Graduado' 'Desistente'\n",
      " 'Desistente' 'Graduado' 'Graduado' 'Desistente' 'Graduado' 'Graduado'\n",
      " 'Graduado' 'Graduado' 'Graduado' 'Graduado' 'Desistente' 'Desistente'\n",
      " 'Graduado' 'Graduado' 'Desistente' 'Graduado' 'Graduado' 'Graduado'\n",
      " 'Graduado' 'Desistente' 'Desistente' 'Graduado' 'Desistente' 'Graduado'\n",
      " 'Graduado' 'Graduado' 'Graduado' 'Graduado' 'Graduado' 'Graduado'\n",
      " 'Graduado' 'Desistente' 'Desistente' 'Graduado' 'Graduado' 'Desistente'\n",
      " 'Graduado' 'Graduado' 'Desistente' 'Desistente' 'Graduado' 'Graduado'\n",
      " 'Graduado' 'Graduado' 'Graduado' 'Graduado' 'Graduado' 'Graduado'\n",
      " 'Graduado' 'Desistente' 'Graduado' 'Graduado' 'Graduado' 'Graduado'\n",
      " 'Graduado' 'Desistente' 'Desistente' 'Graduado' 'Desistente' 'Graduado'\n",
      " 'Graduado' 'Graduado' 'Graduado' 'Graduado' 'Graduado' 'Graduado'\n",
      " 'Graduado' 'Desistente' 'Graduado' 'Graduado' 'Graduado' 'Graduado'\n",
      " 'Graduado' 'Graduado' 'Desistente' 'Desistente' 'Graduado' 'Desistente'\n",
      " 'Graduado' 'Desistente' 'Graduado' 'Graduado' 'Desistente' 'Graduado'\n",
      " 'Graduado' 'Graduado' 'Graduado' 'Desistente' 'Graduado' 'Desistente'\n",
      " 'Desistente' 'Graduado' 'Graduado' 'Graduado' 'Graduado' 'Desistente'\n",
      " 'Graduado' 'Graduado' 'Graduado' 'Graduado' 'Desistente' 'Graduado'\n",
      " 'Desistente' 'Desistente' 'Desistente' 'Graduado' 'Desistente' 'Graduado'\n",
      " 'Graduado' 'Graduado' 'Desistente' 'Desistente' 'Desistente' 'Graduado'\n",
      " 'Desistente' 'Graduado' 'Graduado' 'Desistente' 'Graduado' 'Graduado'\n",
      " 'Graduado' 'Desistente' 'Graduado' 'Desistente' 'Desistente' 'Graduado'\n",
      " 'Desistente' 'Desistente' 'Graduado' 'Graduado' 'Desistente' 'Graduado'\n",
      " 'Desistente' 'Graduado' 'Graduado' 'Graduado' 'Graduado' 'Desistente']\n"
     ]
    }
   ],
   "source": [
    "y_predtest = rfmodel.predict(x_test)\n",
    "print('Previsão Teste: ',y_predtest)\n"
   ]
  },
  {
   "cell_type": "markdown",
   "metadata": {},
   "source": [
    "Análise de métricas no Treino"
   ]
  },
  {
   "cell_type": "code",
   "execution_count": 298,
   "metadata": {},
   "outputs": [
    {
     "data": {
      "text/plain": [
       "array([[238,  63,   1],\n",
       "       [ 17, 450,   2],\n",
       "       [ 64,  98,   7]], dtype=int64)"
      ]
     },
     "execution_count": 298,
     "metadata": {},
     "output_type": "execute_result"
    }
   ],
   "source": [
    "cm = confusion_matrix(y_val, y_predval)\n",
    "cm"
   ]
  },
  {
   "cell_type": "code",
   "execution_count": 299,
   "metadata": {},
   "outputs": [
    {
     "data": {
      "image/png": "[encoded data removed]",
      "text/plain": [
       "<Figure size 640x480 with 2 Axes>"
      ]
     },
     "metadata": {},
     "output_type": "display_data"
    }
   ],
   "source": [
    "visual = ConfusionMatrixDisplay(confusion_matrix=cm, display_labels=rfmodel.classes_)\n",
    "visual.plot();"
   ]
  },
  {
   "cell_type": "code",
   "execution_count": 300,
   "metadata": {},
   "outputs": [
    {
     "data": {
      "image/png": "[encoded data removed]",
      "text/plain": [
       "<Figure size 640x480 with 2 Axes>"
      ]
     },
     "metadata": {},
     "output_type": "display_data"
    }
   ],
   "source": [
    "ConfusionMatrixDisplay.from_predictions(y_val, y_predval, normalize='true', cmap='Blues');"
   ]
  },
  {
   "cell_type": "code",
   "execution_count": 301,
   "metadata": {},
   "outputs": [
    {
     "name": "stdout",
     "output_type": "stream",
     "text": [
      "Relatório de Classificação:\n",
      "              precision    recall  f1-score   support\n",
      "\n",
      "  Desistente       0.75      0.79      0.77       302\n",
      "    Graduado       0.74      0.96      0.83       469\n",
      " Matriculado       0.70      0.04      0.08       169\n",
      "\n",
      "    accuracy                           0.74       940\n",
      "   macro avg       0.73      0.60      0.56       940\n",
      "weighted avg       0.73      0.74      0.68       940\n",
      "\n"
     ]
    }
   ],
   "source": [
    "report = classification_report(y_val, y_predval)\n",
    "print('Relatório de Classificação:') \n",
    "print(report)"
   ]
  },
  {
   "cell_type": "markdown",
   "metadata": {},
   "source": [
    "Análise de métricas no teste"
   ]
  },
  {
   "cell_type": "code",
   "execution_count": 302,
   "metadata": {},
   "outputs": [
    {
     "data": {
      "text/plain": [
       "array([[174,  39,   0],\n",
       "       [ 17, 315,   0],\n",
       "       [ 45,  69,   5]], dtype=int64)"
      ]
     },
     "execution_count": 302,
     "metadata": {},
     "output_type": "execute_result"
    }
   ],
   "source": [
    "cm1 = confusion_matrix(y_test, y_predtest)\n",
    "cm1"
   ]
  },
  {
   "cell_type": "code",
   "execution_count": 303,
   "metadata": {},
   "outputs": [
    {
     "data": {
      "image/png": "[encoded data removed]",
      "text/plain": [
       "<Figure size 640x480 with 2 Axes>"
      ]
     },
     "metadata": {},
     "output_type": "display_data"
    }
   ],
   "source": [
    "visual1 = ConfusionMatrixDisplay(confusion_matrix=cm1, display_labels=rfmodel.classes_)\n",
    "visual1.plot();"
   ]
  },
  {
   "cell_type": "code",
   "execution_count": 304,
   "metadata": {},
   "outputs": [
    {
     "data": {
      "image/png": "[encoded data removed]",
      "text/plain": [
       "<Figure size 640x480 with 2 Axes>"
      ]
     },
     "metadata": {},
     "output_type": "display_data"
    }
   ],
   "source": [
    "ConfusionMatrixDisplay.from_predictions(y_test, y_predtest, normalize='true', cmap='Purples');"
   ]
  },
  {
   "cell_type": "code",
   "execution_count": 305,
   "metadata": {},
   "outputs": [
    {
     "name": "stdout",
     "output_type": "stream",
     "text": [
      "Relatório de Classificação:\n",
      "              precision    recall  f1-score   support\n",
      "\n",
      "  Desistente       0.74      0.82      0.78       213\n",
      "    Graduado       0.74      0.95      0.83       332\n",
      " Matriculado       1.00      0.04      0.08       119\n",
      "\n",
      "    accuracy                           0.74       664\n",
      "   macro avg       0.83      0.60      0.56       664\n",
      "weighted avg       0.79      0.74      0.68       664\n",
      "\n"
     ]
    }
   ],
   "source": [
    "report = classification_report(y_test, y_predtest)\n",
    "print('Relatório de Classificação:') \n",
    "print(report)"
   ]
  },
  {
   "cell_type": "markdown",
   "metadata": {},
   "source": [
    "Aplicação da Técnica de Superamostragem"
   ]
  },
  {
   "cell_type": "code",
   "execution_count": 306,
   "metadata": {},
   "outputs": [
    {
     "data": {
      "text/plain": [
       "Target\n",
       "Graduado       1408\n",
       "Desistente      906\n",
       "Matriculado     506\n",
       "Name: count, dtype: int64"
      ]
     },
     "execution_count": 306,
     "metadata": {},
     "output_type": "execute_result"
    }
   ],
   "source": [
    "y_treino.value_counts()"
   ]
  },
  {
   "cell_type": "code",
   "execution_count": 307,
   "metadata": {},
   "outputs": [],
   "source": [
    "over_sample = SMOTE(random_state=0)\n",
    "x_balanceado, y_balanceado = over_sample.fit_resample(x_treino, y_treino)"
   ]
  },
  {
   "cell_type": "code",
   "execution_count": 308,
   "metadata": {},
   "outputs": [
    {
     "data": {
      "text/plain": [
       "Target\n",
       "Desistente     1408\n",
       "Graduado       1408\n",
       "Matriculado    1408\n",
       "Name: count, dtype: int64"
      ]
     },
     "execution_count": 308,
     "metadata": {},
     "output_type": "execute_result"
    }
   ],
   "source": [
    "y_balanceado.value_counts()"
   ]
  },
  {
   "cell_type": "code",
   "execution_count": 309,
   "metadata": {},
   "outputs": [],
   "source": [
    "modelo = RandomForestClassifier(random_state=0, max_depth=10)\n",
    "modelo.fit(x_balanceado, y_balanceado)\n",
    "y_pred = modelo.predict(x_val)"
   ]
  },
  {
   "cell_type": "code",
   "execution_count": 310,
   "metadata": {},
   "outputs": [
    {
     "name": "stdout",
     "output_type": "stream",
     "text": [
      "              precision    recall  f1-score   support\n",
      "\n",
      "  Desistente       0.86      0.73      0.79       302\n",
      "    Graduado       0.81      0.87      0.84       469\n",
      " Matriculado       0.51      0.54      0.52       169\n",
      "\n",
      "    accuracy                           0.77       940\n",
      "   macro avg       0.72      0.71      0.72       940\n",
      "weighted avg       0.77      0.77      0.77       940\n",
      "\n"
     ]
    },
    {
     "data": {
      "image/png": "[encoded data removed]",
      "text/plain": [
       "<Figure size 640x480 with 2 Axes>"
      ]
     },
     "metadata": {},
     "output_type": "display_data"
    }
   ],
   "source": [
    "print(classification_report(y_val, y_pred))\n",
    "ConfusionMatrixDisplay.from_predictions(y_val, y_pred, normalize='true', cmap='Reds');"
   ]
  },
  {
   "cell_type": "code",
   "execution_count": null,
   "metadata": {},
   "outputs": [],
   "source": [
    "modelo = RandomForestClassifier()"
   ]
  }
 ],
 "metadata": {
  "kernelspec": {
   "display_name": "Python 3",
   "language": "python",
   "name": "python3"
  },
  "language_info": {
   "codemirror_mode": {
    "name": "ipython",
    "version": 3
   },
   "file_extension": ".py",
   "mimetype": "text/x-python",
   "name": "python",
   "nbconvert_exporter": "python",
   "pygments_lexer": "ipython3",
   "version": "3.11.8"
  }
 },
 "nbformat": 4,
 "nbformat_minor": 2
}
